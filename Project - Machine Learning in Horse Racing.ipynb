{
  "metadata": {
    "kernelspec": {
      "name": "python",
      "display_name": "Python (Pyodide)",
      "language": "python"
    },
    "language_info": {
      "codemirror_mode": {
        "name": "python",
        "version": 3
      },
      "file_extension": ".py",
      "mimetype": "text/x-python",
      "name": "python",
      "nbconvert_exporter": "python",
      "pygments_lexer": "ipython3",
      "version": "3.8"
    },
    "colab": {
      "provenance": [],
      "collapsed_sections": [
        "xHo5NgdPNQEb",
        "MHOhCI7oNyUV"
      ]
    }
  },
  "nbformat_minor": 4,
  "nbformat": 4,
  "cells": [
    {
      "cell_type": "markdown",
      "source": "### Horse Racing Machine Learning Model using Pyspark and Databricks\n\nA dashboard created with databricks was used for the exploratory analysis, the dashboard can be found using the following link: https://databricks-prod-cloudfront.cloud.databricks.com/public/4027ec902e239c93eaaa8714f173bcfc/2076258431253745/4211955669654020/8071911021850060/latest.html\n",
      "metadata": {}
    },
    {
      "cell_type": "markdown",
      "source": "### Objective\nThe objetive of this project was to develop a supervised learning classification algorithm to predict the likelihood of winning a derby\nrace, given a set of observations.",
      "metadata": {}
    },
    {
      "cell_type": "code",
      "source": "!pip install pyspark ",
      "metadata": {
        "id": "4bn8CGma9rxF",
        "colab": {
          "base_uri": "https://localhost:8080/"
        },
        "executionInfo": {
          "status": "ok",
          "timestamp": 1670220676744,
          "user_tz": 360,
          "elapsed": 51860,
          "user": {
            "displayName": "Yamil lovo",
            "userId": "04901077126197165237"
          }
        },
        "outputId": "06a2518a-4371-4427-f2df-09579685b264"
      },
      "outputs": [
        {
          "output_type": "stream",
          "name": "stdout",
          "text": [
            "Looking in indexes: https://pypi.org/simple, https://us-python.pkg.dev/colab-wheels/public/simple/\n",
            "Collecting pyspark\n",
            "  Downloading pyspark-3.3.1.tar.gz (281.4 MB)\n",
            "\u001b[K     |████████████████████████████████| 281.4 MB 42 kB/s \n",
            "\u001b[?25hCollecting py4j==0.10.9.5\n",
            "  Downloading py4j-0.10.9.5-py2.py3-none-any.whl (199 kB)\n",
            "\u001b[K     |████████████████████████████████| 199 kB 57.0 MB/s \n",
            "\u001b[?25hBuilding wheels for collected packages: pyspark\n",
            "  Building wheel for pyspark (setup.py) ... \u001b[?25l\u001b[?25hdone\n",
            "  Created wheel for pyspark: filename=pyspark-3.3.1-py2.py3-none-any.whl size=281845512 sha256=2a23c8c8ee32c93caa58b19ed131e7654dda162982928664b599a9202d78050f\n",
            "  Stored in directory: /root/.cache/pip/wheels/43/dc/11/ec201cd671da62fa9c5cc77078235e40722170ceba231d7598\n",
            "Successfully built pyspark\n",
            "Installing collected packages: py4j, pyspark\n",
            "Successfully installed py4j-0.10.9.5 pyspark-3.3.1\n"
          ]
        }
      ],
      "execution_count": 3
    },
    {
      "cell_type": "code",
      "source": "from pyspark.sql import SparkSession #initiallizing spark session\nspark = SparkSession.builder\\\n        .master(\"local\")\\\n        .appName(\"Colab\")\\\n        .config('spark.ui.port', '4050')\\\n        .getOrCreate()",
      "metadata": {
        "id": "m6JyJY6Q-T6Z",
        "executionInfo": {
          "status": "ok",
          "timestamp": 1670220688164,
          "user_tz": 360,
          "elapsed": 11426,
          "user": {
            "displayName": "Yamil lovo",
            "userId": "04901077126197165237"
          }
        }
      },
      "outputs": [],
      "execution_count": 4
    },
    {
      "cell_type": "code",
      "source": "spark #confirming installation and initialization",
      "metadata": {
        "id": "xgBo-9AiOOH2",
        "colab": {
          "base_uri": "https://localhost:8080/",
          "height": 219
        },
        "executionInfo": {
          "status": "ok",
          "timestamp": 1670220689995,
          "user_tz": 360,
          "elapsed": 1860,
          "user": {
            "displayName": "Yamil lovo",
            "userId": "04901077126197165237"
          }
        },
        "outputId": "56ebe1f7-9ffe-45e1-d6e7-cf47660f35af"
      },
      "outputs": [
        {
          "output_type": "execute_result",
          "data": {
            "text/plain": [
              "<pyspark.sql.session.SparkSession at 0x7fc9d654a6d0>"
            ],
            "text/html": [
              "\n",
              "            <div>\n",
              "                <p><b>SparkSession - in-memory</b></p>\n",
              "                \n",
              "        <div>\n",
              "            <p><b>SparkContext</b></p>\n",
              "\n",
              "            <p><a href=\"http://528922233fc6:4050\">Spark UI</a></p>\n",
              "\n",
              "            <dl>\n",
              "              <dt>Version</dt>\n",
              "                <dd><code>v3.3.1</code></dd>\n",
              "              <dt>Master</dt>\n",
              "                <dd><code>local</code></dd>\n",
              "              <dt>AppName</dt>\n",
              "                <dd><code>Colab</code></dd>\n",
              "            </dl>\n",
              "        </div>\n",
              "        \n",
              "            </div>\n",
              "        "
            ]
          },
          "metadata": {},
          "execution_count": 5
        }
      ],
      "execution_count": 5
    },
    {
      "cell_type": "markdown",
      "source": "### Dataset Attributes :",
      "metadata": {
        "id": "ObbrQcS_RRa6"
      }
    },
    {
      "cell_type": "markdown",
      "source": "\nThis competition has provided 4 csv files with some common features :\n\n#### nyra_start_table.csv\nHorse/jockey race data\n\n- track_id - 3 character id for the track the race took place at. AQU: Aqueduct, BEL: Belmont, SAR: Saratoga.\n- race_date - date the race took place. YYYY-MM-DD.\n- race_number - Number of the race. Passed as 3 characters but can be cast or converted to int for this data set.\n- program_number - Program number of the horse in the race passed as 3 characters. Should remain 3 characters as it isn't limited to just numbers. Is essentially the unique identifier of the horse in the race.\n- weight_carried - An integer of the weight carried by the horse in the race.\n- jockey - Name of the jockey on the horse in the race. 50 character max.\n- odds - Odds to win the race passed as an integer. Divide by 100 to derive the odds to 1. Example - 1280 would be 12.8-1.\n- position_at_finish - An integer of the horse's finishing position. (added to the dataset 9/8/22)\n\n#### nyra_race_table.csv\nRacetrack race data\n\n- track_id - 3 character id for the track the race took place at. AQU: Aqueduct, BEL: Belmont, SAR: Saratoga.\n- race_date - date the race took place. YYYY-MM-DD.\n- race_number - Number of the race. Passed as 3 characters but can be cast or converted to int for this data set.\n- distance_id - Distance of the race in furlongs passed as an integer. Example - 600 would be 6 furlongs.\n- course_type - The course the race was run over passed as one character. M - Hurdle, D - Dirt, O - Outer turf, I - Inner turf, T - turf.\n- track_condition - The condition of the course the race was run on passed as three characters. YL - Yielding, FM - Firm, SY - Sloppy, GD - Good, FT - Fast, MY - Muddy, SF - Soft.\n- run_up_distance - Distance in feet of the gate to the start of the race passed as an integer.\n- race_type - The classification of the race passed as as five characters. STK - Stakes, WCL - Waiver Claiming, WMC - Waiver Maiden Claiming, SST - Starter Stakes, SHP - Starter Handicap, CLM - Claiming, STR - Starter Allowance, AOC - Allowance Optionl Claimer, SOC - Starter Optional Claimer, MCL - Maiden Claiming, ALW - Allowance, MSW - Maiden Special Weight.\n- purse - Purse in US dollars of the race passed as an money with two decimal places.\n- post_time - Time of day the race began passed as 5 character. Example - 01220 would be 12:20.\n\n##### nyra_tracking_table.csv\n\n- track_id - 3 character id for the track the race took place at. AQU: Aqueduct, BEL: Belmont, SAR: Saratoga.\n- race_date - date the race took place. YYYY-MM-DD.\n- race_number - Number of the race. Passed as 3 characters but can be cast or converted to int for this data set.\n- program_number - Program number of the horse in the race passed as 3 characters. Should remain 3 characters as it isn't limited to just numbers. Is essentially the unique identifier of the horse in the race.\n- trakus_index - The common collection of point of the lat / long of the horse in the race passed as an integer. From what we can tell, it's collected every 0.25 seconds.\n- latitude - The latitude of the horse in the race passed as a float.\n- longitude - The longitude of the horse in the race passed as a float.\n\n##### nyra_2019_complete.csv \nThis file is the combined 3 files into one table. The keys to join them trakus with race - track_id, race_date, race_number. To join trakus with start - track_id, race_date, race_number, program_number.\n",
      "metadata": {
        "id": "p49JGHgRBKvP"
      }
    },
    {
      "cell_type": "code",
      "source": "df_race = spark.read.csv('/content/drive/My Drive/Big_Data/nyra_race_table.csv', header=True)\ndf_start = spark.read.csv('/content/drive/My Drive/Big_Data/nyra_start_table.csv', header=True)\ndf_tracking = spark.read.csv('/content/drive/My Drive/Big_Data/nyra_tracking_table.csv', header=True)\ndf_complete = spark.read.csv('/content/drive/My Drive/Big_Data/nyra_2019_complete.csv', header=True)",
      "metadata": {
        "id": "fXIZALzX_gEo",
        "executionInfo": {
          "status": "ok",
          "timestamp": 1670220705201,
          "user_tz": 360,
          "elapsed": 15212,
          "user": {
            "displayName": "Yamil lovo",
            "userId": "04901077126197165237"
          }
        }
      },
      "outputs": [],
      "execution_count": 6
    },
    {
      "cell_type": "code",
      "source": "df_race.printSchema()",
      "metadata": {
        "id": "HWNf0K1KAgSY",
        "colab": {
          "base_uri": "https://localhost:8080/"
        },
        "executionInfo": {
          "status": "ok",
          "timestamp": 1670220705201,
          "user_tz": 360,
          "elapsed": 6,
          "user": {
            "displayName": "Yamil lovo",
            "userId": "04901077126197165237"
          }
        },
        "outputId": "b2f34029-30cf-4653-c615-e7362a3f1f25"
      },
      "outputs": [
        {
          "output_type": "stream",
          "name": "stdout",
          "text": [
            "root\n",
            " |-- track_id: string (nullable = true)\n",
            " |-- race_date: string (nullable = true)\n",
            " |-- race_number: string (nullable = true)\n",
            " |-- distance_id: string (nullable = true)\n",
            " |-- course_type: string (nullable = true)\n",
            " |-- track_condition: string (nullable = true)\n",
            " |-- run_up_distance: string (nullable = true)\n",
            " |-- race_type: string (nullable = true)\n",
            " |-- purse: string (nullable = true)\n",
            " |-- post_time: string (nullable = true)\n",
            "\n"
          ]
        }
      ],
      "execution_count": 7
    },
    {
      "cell_type": "code",
      "source": "df_race.show(5)",
      "metadata": {
        "id": "Vg-GLZ76BIbd",
        "colab": {
          "base_uri": "https://localhost:8080/"
        },
        "executionInfo": {
          "status": "ok",
          "timestamp": 1670220705568,
          "user_tz": 360,
          "elapsed": 370,
          "user": {
            "displayName": "Yamil lovo",
            "userId": "04901077126197165237"
          }
        },
        "outputId": "3f42fb12-2dcc-49b7-faf7-9abe7af888b6"
      },
      "outputs": [
        {
          "output_type": "stream",
          "name": "stdout",
          "text": [
            "+--------+----------+-----------+-----------+-----------+---------------+---------------+---------+-----+---------+\n",
            "|track_id| race_date|race_number|distance_id|course_type|track_condition|run_up_distance|race_type|purse|post_time|\n",
            "+--------+----------+-----------+-----------+-----------+---------------+---------------+---------+-----+---------+\n",
            "|     AQU|2019-01-01|          1|        650|          D|            MY |             36|      AOC|80000|    01220|\n",
            "|     AQU|2019-01-01|          2|        600|          D|            MY |             48|      MCL|41000|    01250|\n",
            "|     AQU|2019-01-01|          3|        550|          D|            MY |             54|      MCL|35000|    00121|\n",
            "|     AQU|2019-01-01|          4|        900|          D|            MY |            101|      AOC|80000|    00150|\n",
            "|     AQU|2019-01-01|          5|        700|          D|            MY |             60|      ALW|64000|    00220|\n",
            "+--------+----------+-----------+-----------+-----------+---------------+---------------+---------+-----+---------+\n",
            "only showing top 5 rows\n",
            "\n"
          ]
        }
      ],
      "execution_count": 8
    },
    {
      "cell_type": "code",
      "source": "df_start.printSchema()",
      "metadata": {
        "id": "JLlUorJPCp_L",
        "colab": {
          "base_uri": "https://localhost:8080/"
        },
        "executionInfo": {
          "status": "ok",
          "timestamp": 1670220705569,
          "user_tz": 360,
          "elapsed": 10,
          "user": {
            "displayName": "Yamil lovo",
            "userId": "04901077126197165237"
          }
        },
        "outputId": "03539a14-c0f3-47c9-bb38-e48b23f98dbb"
      },
      "outputs": [
        {
          "output_type": "stream",
          "name": "stdout",
          "text": [
            "root\n",
            " |-- AQU: string (nullable = true)\n",
            " |-- 2019-01-01: string (nullable = true)\n",
            " |-- 1: string (nullable = true)\n",
            " |-- 1  : string (nullable = true)\n",
            " |-- 123: string (nullable = true)\n",
            " |-- Dylan Davis: string (nullable = true)\n",
            " |-- 130: string (nullable = true)\n",
            " |-- 2: string (nullable = true)\n",
            "\n"
          ]
        }
      ],
      "execution_count": 9
    },
    {
      "cell_type": "code",
      "source": "df_start.show(5)",
      "metadata": {
        "id": "dtYdi_4rCvAK",
        "colab": {
          "base_uri": "https://localhost:8080/"
        },
        "executionInfo": {
          "status": "ok",
          "timestamp": 1670220706079,
          "user_tz": 360,
          "elapsed": 513,
          "user": {
            "displayName": "Yamil lovo",
            "userId": "04901077126197165237"
          }
        },
        "outputId": "4103c023-e324-4737-ae95-fedf4d14e481"
      },
      "outputs": [
        {
          "output_type": "stream",
          "name": "stdout",
          "text": [
            "+---+----------+---+---+---+---------------+----+---+\n",
            "|AQU|2019-01-01|  1|1  |123|    Dylan Davis| 130|  2|\n",
            "+---+----------+---+---+---+---------------+----+---+\n",
            "|AQU|2019-01-01|  1|2  |120|Junior Alvarado| 295|  3|\n",
            "|AQU|2019-01-01|  1|3  |118|   Jose Lezcano| 180|  4|\n",
            "|AQU|2019-01-01|  1|4  |123|   Jomar Garcia|1280|  5|\n",
            "|AQU|2019-01-01|  1|5  |118|  Manuel Franco|1150|  1|\n",
            "|AQU|2019-01-01|  2|1  |121|   Jose Lezcano| 220|  2|\n",
            "+---+----------+---+---+---+---------------+----+---+\n",
            "only showing top 5 rows\n",
            "\n"
          ]
        }
      ],
      "execution_count": 10
    },
    {
      "cell_type": "code",
      "source": "df_tracking.printSchema()",
      "metadata": {
        "id": "kPEBgaAyGdrB",
        "colab": {
          "base_uri": "https://localhost:8080/"
        },
        "executionInfo": {
          "status": "ok",
          "timestamp": 1670220706081,
          "user_tz": 360,
          "elapsed": 15,
          "user": {
            "displayName": "Yamil lovo",
            "userId": "04901077126197165237"
          }
        },
        "outputId": "ac856bb6-031d-4177-db4e-26c7509fe34e"
      },
      "outputs": [
        {
          "output_type": "stream",
          "name": "stdout",
          "text": [
            "root\n",
            " |-- track_id: string (nullable = true)\n",
            " |-- race_date: string (nullable = true)\n",
            " |-- race_number: string (nullable = true)\n",
            " |-- program_number: string (nullable = true)\n",
            " |-- trakus_index: string (nullable = true)\n",
            " |-- latitude: string (nullable = true)\n",
            " |-- longitude: string (nullable = true)\n",
            "\n"
          ]
        }
      ],
      "execution_count": 11
    },
    {
      "cell_type": "code",
      "source": "df_tracking.show(5)",
      "metadata": {
        "id": "u8w7rcNHGlyf",
        "colab": {
          "base_uri": "https://localhost:8080/"
        },
        "executionInfo": {
          "status": "ok",
          "timestamp": 1670220706509,
          "user_tz": 360,
          "elapsed": 437,
          "user": {
            "displayName": "Yamil lovo",
            "userId": "04901077126197165237"
          }
        },
        "outputId": "dc160b6b-55ef-49a0-c1d5-a56c0b5ebb9a"
      },
      "outputs": [
        {
          "output_type": "stream",
          "name": "stdout",
          "text": [
            "+--------+----------+-----------+--------------+------------+------------------+-------------------+\n",
            "|track_id| race_date|race_number|program_number|trakus_index|          latitude|          longitude|\n",
            "+--------+----------+-----------+--------------+------------+------------------+-------------------+\n",
            "|     AQU|2019-01-01|          9|           6  |          72|  40.6729017197787|  -73.8276065972899|\n",
            "|     AQU|2019-01-01|          9|           6  |          73|40.672945987033899|-73.827587266669497|\n",
            "|     AQU|2019-01-01|          9|           6  |          74|  40.6729903067774|-73.827568024587293|\n",
            "|     AQU|2019-01-01|          9|           6  |          63|40.672509778989301|-73.827781021601794|\n",
            "|     AQU|2019-01-01|          9|           6  |          64|40.672552699664003|-73.827761550864395|\n",
            "+--------+----------+-----------+--------------+------------+------------------+-------------------+\n",
            "only showing top 5 rows\n",
            "\n"
          ]
        }
      ],
      "execution_count": 12
    },
    {
      "cell_type": "code",
      "source": "df_complete.printSchema()",
      "metadata": {
        "id": "8ESp8uBVGoqb",
        "colab": {
          "base_uri": "https://localhost:8080/"
        },
        "executionInfo": {
          "status": "ok",
          "timestamp": 1670220706511,
          "user_tz": 360,
          "elapsed": 21,
          "user": {
            "displayName": "Yamil lovo",
            "userId": "04901077126197165237"
          }
        },
        "outputId": "577b9cee-8b3e-4996-d75e-1e9e9b97553a"
      },
      "outputs": [
        {
          "output_type": "stream",
          "name": "stdout",
          "text": [
            "root\n",
            " |-- AQU: string (nullable = true)\n",
            " |-- 2019-01-01: string (nullable = true)\n",
            " |-- 9: string (nullable = true)\n",
            " |-- 6  : string (nullable = true)\n",
            " |-- 72: string (nullable = true)\n",
            " |-- 40.6729017197787: string (nullable = true)\n",
            " |-- -73.8276065972899: string (nullable = true)\n",
            " |-- 600: string (nullable = true)\n",
            " |-- D: string (nullable = true)\n",
            " |-- GD : string (nullable = true)\n",
            " |-- 48: string (nullable = true)\n",
            " |-- CLM: string (nullable = true)\n",
            " |-- 25000.00: string (nullable = true)\n",
            " |-- 00420: string (nullable = true)\n",
            " |-- 120: string (nullable = true)\n",
            " |-- Andre Shivnarine Worrie: string (nullable = true)\n",
            " |-- 2090: string (nullable = true)\n",
            " |-- 8: string (nullable = true)\n",
            "\n"
          ]
        }
      ],
      "execution_count": 13
    },
    {
      "cell_type": "code",
      "source": "df_complete.show(5)",
      "metadata": {
        "id": "Dzue1F9iCqJ0",
        "colab": {
          "base_uri": "https://localhost:8080/"
        },
        "executionInfo": {
          "status": "ok",
          "timestamp": 1670220707191,
          "user_tz": 360,
          "elapsed": 689,
          "user": {
            "displayName": "Yamil lovo",
            "userId": "04901077126197165237"
          }
        },
        "outputId": "f7a8182f-822f-4842-af47-6c8c4deadde2"
      },
      "outputs": [
        {
          "output_type": "stream",
          "name": "stdout",
          "text": [
            "+---+----------+---+---+---+----------------+-----------------+---+---+---+---+---+--------+-----+---+-----------------------+----+---+\n",
            "|AQU|2019-01-01|  9|6  | 72|40.6729017197787|-73.8276065972899|600|  D|GD | 48|CLM|25000.00|00420|120|Andre Shivnarine Worrie|2090|  8|\n",
            "+---+----------+---+---+---+----------------+-----------------+---+---+---+---+---+--------+-----+---+-----------------------+----+---+\n",
            "|AQU|2019-01-01|  9|6  | 73|40.6729459870339|-73.8275872666695|600|  D|GD | 48|CLM|25000.00|00420|120|   Andre Shivnarine ...|2090|  8|\n",
            "|AQU|2019-01-01|  9|6  | 74|40.6729903067774|-73.8275680245873|600|  D|GD | 48|CLM|25000.00|00420|120|   Andre Shivnarine ...|2090|  8|\n",
            "|AQU|2019-01-01|  9|6  | 63|40.6725097789893|-73.8277810216018|600|  D|GD | 48|CLM|25000.00|00420|120|   Andre Shivnarine ...|2090|  8|\n",
            "|AQU|2019-01-01|  9|6  | 64| 40.672552699664|-73.8277615508644|600|  D|GD | 48|CLM|25000.00|00420|120|   Andre Shivnarine ...|2090|  8|\n",
            "|AQU|2019-01-01|  9|6  | 65|40.6725958007316|-73.8277421469391|600|  D|GD | 48|CLM|25000.00|00420|120|   Andre Shivnarine ...|2090|  8|\n",
            "+---+----------+---+---+---+----------------+-----------------+---+---+---+---+---+--------+-----+---+-----------------------+----+---+\n",
            "only showing top 5 rows\n",
            "\n"
          ]
        }
      ],
      "execution_count": 14
    },
    {
      "cell_type": "markdown",
      "source": "### Dataset cleaning and preparation\n\nFrom a first look to the data files, we observe:\n\n- Tables start, race and tracking share features: track_id, race_date, and race_number. Also, table start and trakcing share feature program_number.\n\n- The table start and complete, do not contain the first row with the name of the columns. \n\n- All values are of type string, we need to reassign the correct type for each feature. Also, feature program_number seems to have values with a space at the end, we need to correct this. \n\n\n",
      "metadata": {
        "id": "iCce1-Ytnn9L"
      }
    },
    {
      "cell_type": "code",
      "source": "from pyspark.sql.types import StructType, StructField, IntegerType, StringType, DoubleType \nfrom pyspark.sql import functions as sf\n\n#Creating schema for table with columns name and type\nschema_start = StructType([\n    StructField('track_id', StringType(),  True),\n    StructField('race_date',StringType(),   True),\n    StructField('race_number',IntegerType(),   True),\n    StructField('program_number',StringType(),  True),\n    StructField('weight_carried',IntegerType(),  True),\n    StructField('jockey',StringType(),  True),\n    StructField('odds',IntegerType(),  True),\n     StructField('position_at_finish',IntegerType(),  True)\n    ])\n\ndf_start = spark.read.csv('/content/drive/My Drive/Big_Data/nyra_start_table.csv',header=False,schema=schema_start)\n\ndf_start = df_start.withColumn('program_number', sf.trim(df_start.program_number)) #eliminating space at the end of feature program_number\ndf_start = df_start.withColumn('program_number', df_start.program_number.cast(IntegerType()))\n\ndf_start.show(5)",
      "metadata": {
        "id": "X6hCTvKNCqPb",
        "colab": {
          "base_uri": "https://localhost:8080/"
        },
        "executionInfo": {
          "status": "ok",
          "timestamp": 1670220707615,
          "user_tz": 360,
          "elapsed": 427,
          "user": {
            "displayName": "Yamil lovo",
            "userId": "04901077126197165237"
          }
        },
        "outputId": "ca2d57af-b466-447d-dba0-84369f9d2ce7"
      },
      "outputs": [
        {
          "output_type": "stream",
          "name": "stdout",
          "text": [
            "+--------+----------+-----------+--------------+--------------+---------------+----+------------------+\n",
            "|track_id| race_date|race_number|program_number|weight_carried|         jockey|odds|position_at_finish|\n",
            "+--------+----------+-----------+--------------+--------------+---------------+----+------------------+\n",
            "|     AQU|2019-01-01|          1|             1|           123|    Dylan Davis| 130|                 2|\n",
            "|     AQU|2019-01-01|          1|             2|           120|Junior Alvarado| 295|                 3|\n",
            "|     AQU|2019-01-01|          1|             3|           118|   Jose Lezcano| 180|                 4|\n",
            "|     AQU|2019-01-01|          1|             4|           123|   Jomar Garcia|1280|                 5|\n",
            "|     AQU|2019-01-01|          1|             5|           118|  Manuel Franco|1150|                 1|\n",
            "+--------+----------+-----------+--------------+--------------+---------------+----+------------------+\n",
            "only showing top 5 rows\n",
            "\n"
          ]
        }
      ],
      "execution_count": 15
    },
    {
      "cell_type": "code",
      "source": "df_start.printSchema()",
      "metadata": {
        "id": "9cuJ4v0regck",
        "colab": {
          "base_uri": "https://localhost:8080/"
        },
        "executionInfo": {
          "status": "ok",
          "timestamp": 1670220707616,
          "user_tz": 360,
          "elapsed": 12,
          "user": {
            "displayName": "Yamil lovo",
            "userId": "04901077126197165237"
          }
        },
        "outputId": "6e994623-6bbf-4d22-c0f2-b5a04e641845"
      },
      "outputs": [
        {
          "output_type": "stream",
          "name": "stdout",
          "text": [
            "root\n",
            " |-- track_id: string (nullable = true)\n",
            " |-- race_date: string (nullable = true)\n",
            " |-- race_number: integer (nullable = true)\n",
            " |-- program_number: integer (nullable = true)\n",
            " |-- weight_carried: integer (nullable = true)\n",
            " |-- jockey: string (nullable = true)\n",
            " |-- odds: integer (nullable = true)\n",
            " |-- position_at_finish: integer (nullable = true)\n",
            "\n"
          ]
        }
      ],
      "execution_count": 16
    },
    {
      "cell_type": "code",
      "source": "schema_complete = StructType([\n    StructField('track_id', StringType(),  True),\n    StructField('race_date',StringType(),   True),\n    StructField('race_number',IntegerType(),   True),\n    StructField('program_number',StringType(),  True),\n    StructField('trakus_index',IntegerType(),  True),\n    StructField('latitude',DoubleType(),  True),\n    StructField('longitude',DoubleType(),  True),\n    StructField('distance_id',IntegerType(),  True),\n    StructField('course_type',StringType(),  True),\n    StructField('track_condition',StringType(),  True),\n    StructField('run_up_distance',IntegerType(),  True),\n    StructField('race_type',StringType(),  True),\n    StructField('purse',DoubleType(),  True),\n    StructField('post_time',IntegerType(),  True),\n    StructField('weight_carried',IntegerType(),  True),\n    StructField('jockey',StringType(),  True),\n    StructField('odds',IntegerType(),  True),\n     StructField('position_at_finish',IntegerType(),  True)\n    ])\n\ndf_complete = spark.read.csv('/content/drive/My Drive/Big_Data/nyra_2019_complete.csv',header=False,schema=schema_complete)\n\ndf_complete = df_complete.withColumn('program_number', sf.trim(df_complete.program_number))\ndf_complete = df_complete.withColumn('program_number', df_complete.program_number.cast(IntegerType()))\n\n#We will also create a new column that we will use later to join the different dataframes.\n\ndf_complete = df_complete.withColumn('ID_horse', \n                    sf.concat(sf.col('track_id'),sf.lit('_'), sf.col('race_date'),sf.lit('_'), sf.col('race_number'),sf.lit('_'), sf.col('program_number')))\n\ndf_complete.show(5)",
      "metadata": {
        "id": "cKtOXJLp80Mj",
        "colab": {
          "base_uri": "https://localhost:8080/"
        },
        "executionInfo": {
          "status": "ok",
          "timestamp": 1670220708506,
          "user_tz": 360,
          "elapsed": 897,
          "user": {
            "displayName": "Yamil lovo",
            "userId": "04901077126197165237"
          }
        },
        "outputId": "f5b14f15-9c3f-424c-dc6f-e1f641a209d9"
      },
      "outputs": [
        {
          "output_type": "stream",
          "name": "stdout",
          "text": [
            "+--------+----------+-----------+--------------+------------+----------------+-----------------+-----------+-----------+---------------+---------------+---------+-------+---------+--------------+--------------------+----+------------------+------------------+\n",
            "|track_id| race_date|race_number|program_number|trakus_index|        latitude|        longitude|distance_id|course_type|track_condition|run_up_distance|race_type|  purse|post_time|weight_carried|              jockey|odds|position_at_finish|          ID_horse|\n",
            "+--------+----------+-----------+--------------+------------+----------------+-----------------+-----------+-----------+---------------+---------------+---------+-------+---------+--------------+--------------------+----+------------------+------------------+\n",
            "|     AQU|2019-01-01|          9|             6|          72|40.6729017197787|-73.8276065972899|        600|          D|            GD |             48|      CLM|25000.0|      420|           120|Andre Shivnarine ...|2090|                 8|AQU_2019-01-01_9_6|\n",
            "|     AQU|2019-01-01|          9|             6|          73|40.6729459870339|-73.8275872666695|        600|          D|            GD |             48|      CLM|25000.0|      420|           120|Andre Shivnarine ...|2090|                 8|AQU_2019-01-01_9_6|\n",
            "|     AQU|2019-01-01|          9|             6|          74|40.6729903067774|-73.8275680245873|        600|          D|            GD |             48|      CLM|25000.0|      420|           120|Andre Shivnarine ...|2090|                 8|AQU_2019-01-01_9_6|\n",
            "|     AQU|2019-01-01|          9|             6|          63|40.6725097789893|-73.8277810216018|        600|          D|            GD |             48|      CLM|25000.0|      420|           120|Andre Shivnarine ...|2090|                 8|AQU_2019-01-01_9_6|\n",
            "|     AQU|2019-01-01|          9|             6|          64| 40.672552699664|-73.8277615508644|        600|          D|            GD |             48|      CLM|25000.0|      420|           120|Andre Shivnarine ...|2090|                 8|AQU_2019-01-01_9_6|\n",
            "+--------+----------+-----------+--------------+------------+----------------+-----------------+-----------+-----------+---------------+---------------+---------+-------+---------+--------------+--------------------+----+------------------+------------------+\n",
            "only showing top 5 rows\n",
            "\n"
          ]
        }
      ],
      "execution_count": 17
    },
    {
      "cell_type": "code",
      "source": "df_complete.groupBy('track_id').count().show()",
      "metadata": {
        "id": "lXEf4En9uMSH",
        "colab": {
          "base_uri": "https://localhost:8080/"
        },
        "executionInfo": {
          "status": "ok",
          "timestamp": 1670220724912,
          "user_tz": 360,
          "elapsed": 16414,
          "user": {
            "displayName": "Yamil lovo",
            "userId": "04901077126197165237"
          }
        },
        "outputId": "0a32808b-2157-4544-a0a0-74d95604315f"
      },
      "outputs": [
        {
          "output_type": "stream",
          "name": "stdout",
          "text": [
            "+--------+-------+\n",
            "|track_id|  count|\n",
            "+--------+-------+\n",
            "|     SAR|1122927|\n",
            "|     AQU|2158369|\n",
            "|     BEL|1947134|\n",
            "+--------+-------+\n",
            "\n"
          ]
        }
      ],
      "execution_count": 18
    },
    {
      "cell_type": "code",
      "source": "",
      "metadata": {
        "id": "ZtX8NUEmuUz2",
        "executionInfo": {
          "status": "ok",
          "timestamp": 1670220724913,
          "user_tz": 360,
          "elapsed": 37,
          "user": {
            "displayName": "Yamil lovo",
            "userId": "04901077126197165237"
          }
        }
      },
      "outputs": [],
      "execution_count": 18
    },
    {
      "cell_type": "code",
      "source": "df_race = df_race.withColumn('race_number', df_race['race_number'].cast(IntegerType())) \\\n.withColumn('distance_id', df_race['distance_id'].cast(IntegerType())) \\\n      .withColumn('run_up_distance', df_race['run_up_distance'].cast(IntegerType())) \\\n      .withColumn('purse', df_race['purse'].cast(DoubleType())) \\\n      .withColumn('post_time', df_race['post_time'].cast(IntegerType()))\ndf_race.printSchema()",
      "metadata": {
        "id": "JpWdln5XsUSG",
        "colab": {
          "base_uri": "https://localhost:8080/"
        },
        "executionInfo": {
          "status": "ok",
          "timestamp": 1670220724913,
          "user_tz": 360,
          "elapsed": 34,
          "user": {
            "displayName": "Yamil lovo",
            "userId": "04901077126197165237"
          }
        },
        "outputId": "6d57163c-4813-40af-db9f-4020e722e205"
      },
      "outputs": [
        {
          "output_type": "stream",
          "name": "stdout",
          "text": [
            "root\n",
            " |-- track_id: string (nullable = true)\n",
            " |-- race_date: string (nullable = true)\n",
            " |-- race_number: integer (nullable = true)\n",
            " |-- distance_id: integer (nullable = true)\n",
            " |-- course_type: string (nullable = true)\n",
            " |-- track_condition: string (nullable = true)\n",
            " |-- run_up_distance: integer (nullable = true)\n",
            " |-- race_type: string (nullable = true)\n",
            " |-- purse: double (nullable = true)\n",
            " |-- post_time: integer (nullable = true)\n",
            "\n"
          ]
        }
      ],
      "execution_count": 19
    },
    {
      "cell_type": "code",
      "source": "df_tracking = df_tracking.withColumn('program_number', sf.trim(df_tracking.program_number))\n\ndf_tracking = df_tracking.withColumn('race_number', df_tracking['race_number'].cast(IntegerType())) \\\n      .withColumn('program_number', df_tracking['program_number'].cast(IntegerType())) \\\n      .withColumn('trakus_index', df_tracking['trakus_index'].cast(IntegerType())) \\\n      .withColumn('latitude', df_tracking['latitude'].cast(DoubleType())) \\\n      .withColumn('longitude', df_tracking['longitude'].cast(DoubleType()))\ndf_tracking.printSchema()",
      "metadata": {
        "id": "r7mH-nfMxspo",
        "colab": {
          "base_uri": "https://localhost:8080/"
        },
        "executionInfo": {
          "status": "ok",
          "timestamp": 1670220724913,
          "user_tz": 360,
          "elapsed": 28,
          "user": {
            "displayName": "Yamil lovo",
            "userId": "04901077126197165237"
          }
        },
        "outputId": "eb6f3ac3-9658-4078-fee1-082e528b2e6a"
      },
      "outputs": [
        {
          "output_type": "stream",
          "name": "stdout",
          "text": [
            "root\n",
            " |-- track_id: string (nullable = true)\n",
            " |-- race_date: string (nullable = true)\n",
            " |-- race_number: integer (nullable = true)\n",
            " |-- program_number: integer (nullable = true)\n",
            " |-- trakus_index: integer (nullable = true)\n",
            " |-- latitude: double (nullable = true)\n",
            " |-- longitude: double (nullable = true)\n",
            "\n"
          ]
        }
      ],
      "execution_count": 20
    },
    {
      "cell_type": "code",
      "source": "#Checking for missing and null values in the dataframes\ndf_race.select([sf.count(sf.when(sf.isnan(c), c)).alias(c) for c in df_race.columns]).show()\ndf_start.select([sf.count(sf.when(sf.isnan(c), c)).alias(c) for c in df_start.columns]).show()\ndf_tracking.select([sf.count(sf.when(sf.isnan(c), c)).alias(c) for c in df_tracking.columns]).show()\ndf_complete.select([sf.count(sf.when(sf.isnan(c), c)).alias(c) for c in df_complete.columns]).show()",
      "metadata": {
        "id": "9YI3BqOpzaYo",
        "colab": {
          "base_uri": "https://localhost:8080/"
        },
        "executionInfo": {
          "status": "ok",
          "timestamp": 1670220893984,
          "user_tz": 360,
          "elapsed": 169092,
          "user": {
            "displayName": "Yamil lovo",
            "userId": "04901077126197165237"
          }
        },
        "outputId": "ffea892c-f24a-42ae-f9f4-72b22f97aae2"
      },
      "outputs": [
        {
          "output_type": "stream",
          "name": "stdout",
          "text": [
            "+--------+---------+-----------+-----------+-----------+---------------+---------------+---------+-----+---------+\n",
            "|track_id|race_date|race_number|distance_id|course_type|track_condition|run_up_distance|race_type|purse|post_time|\n",
            "+--------+---------+-----------+-----------+-----------+---------------+---------------+---------+-----+---------+\n",
            "|       0|        0|          0|          0|          0|              0|              0|        0|    0|        0|\n",
            "+--------+---------+-----------+-----------+-----------+---------------+---------------+---------+-----+---------+\n",
            "\n",
            "+--------+---------+-----------+--------------+--------------+------+----+------------------+\n",
            "|track_id|race_date|race_number|program_number|weight_carried|jockey|odds|position_at_finish|\n",
            "+--------+---------+-----------+--------------+--------------+------+----+------------------+\n",
            "|       0|        0|          0|             0|             0|     0|   0|                 0|\n",
            "+--------+---------+-----------+--------------+--------------+------+----+------------------+\n",
            "\n",
            "+--------+---------+-----------+--------------+------------+--------+---------+\n",
            "|track_id|race_date|race_number|program_number|trakus_index|latitude|longitude|\n",
            "+--------+---------+-----------+--------------+------------+--------+---------+\n",
            "|       0|        0|          0|             0|           0|       0|        0|\n",
            "+--------+---------+-----------+--------------+------------+--------+---------+\n",
            "\n",
            "+--------+---------+-----------+--------------+------------+--------+---------+-----------+-----------+---------------+---------------+---------+-----+---------+--------------+------+----+------------------+--------+\n",
            "|track_id|race_date|race_number|program_number|trakus_index|latitude|longitude|distance_id|course_type|track_condition|run_up_distance|race_type|purse|post_time|weight_carried|jockey|odds|position_at_finish|ID_horse|\n",
            "+--------+---------+-----------+--------------+------------+--------+---------+-----------+-----------+---------------+---------------+---------+-----+---------+--------------+------+----+------------------+--------+\n",
            "|       0|        0|          0|             0|           0|       0|        0|          0|          0|              0|              0|        0|    0|        0|             0|     0|   0|                 0|       0|\n",
            "+--------+---------+-----------+--------------+------------+--------+---------+-----------+-----------+---------------+---------------+---------+-----+---------+--------------+------+----+------------------+--------+\n",
            "\n"
          ]
        }
      ],
      "execution_count": 21
    },
    {
      "cell_type": "markdown",
      "source": "### Extra Datasets: Injuries and Horses\n\nWe will add two extra datasets that complements the Big Data Derby 2022 database. These datasets cointain information about the horses(name and ID) and information about the horses that broken down, were injured or  died at New York State race tracks. \n\nMore information about these datasets can be found in:\n-  https://www.kaggle.com/datasets/mpwolke/cusersmarildownloadsequinecsv\n- https://www.kaggle.com/datasets/themarkgreen/big-data-derby-2022-global-horse-ids-and-places?select=horse_ids.csv",
      "metadata": {
        "id": "nNpj0tru3x8Z"
      }
    },
    {
      "cell_type": "markdown",
      "source": "#### Dataset: Injuries",
      "metadata": {
        "id": "xHo5NgdPNQEb"
      }
    },
    {
      "cell_type": "code",
      "source": "schema_injuries = StructType([\n    StructField('year', IntegerType(),  True),\n    StructField('incident_date',StringType(),   True),\n    StructField('incident_type',StringType(),   True),\n    StructField('track',StringType(),  True),\n    StructField('inv_location',StringType(),  True),\n    StructField('racing_type_description',StringType(),  True),\n    StructField('division',StringType(),  True),\n    StructField('weather_conditions',StringType(),  True),\n    StructField('horse',StringType(),  True),\n    StructField('trainer',StringType(),  True),\n    StructField('jockey_driver',StringType(),  True),\n    StructField('incident_description',StringType(),  True),\n    StructField('death_or_injury',StringType(),  True)\n    ])\n\ndf_injuries = spark.read.csv('/content/drive/My Drive/Big_Data/equine.csv', sep=';', header=True, schema=schema_injuries)\ndf_injuries.show(5)\n",
      "metadata": {
        "id": "ECr_D9m-2k2C",
        "colab": {
          "base_uri": "https://localhost:8080/"
        },
        "executionInfo": {
          "status": "ok",
          "timestamp": 1670220894234,
          "user_tz": 360,
          "elapsed": 269,
          "user": {
            "displayName": "Yamil lovo",
            "userId": "04901077126197165237"
          }
        },
        "outputId": "5b459d38-2b5d-422f-d950-156989314889"
      },
      "outputs": [
        {
          "output_type": "stream",
          "name": "stdout",
          "text": [
            "+----+-------------+-----------------+--------------------+------------+-----------------------+------------+------------------+---------------+--------------------+-------------+--------------------+---------------+\n",
            "|year|incident_date|    incident_type|               track|inv_location|racing_type_description|    division|weather_conditions|          horse|             trainer|jockey_driver|incident_description|death_or_injury|\n",
            "+----+-------------+-----------------+--------------------+------------+-----------------------+------------+------------------+---------------+--------------------+-------------+--------------------+---------------+\n",
            "|2009|   03/04/2009|     EQUINE DEATH|Aqueduct Racetrac...|    Aqueduct|                 Racing|Thoroughbred|              null|Private Details|JOHN P. TERRANOVA II|         null|Private Details-T...|     Euthanasia|\n",
            "|2009|   03/04/2009|ON-TRACK ACCIDENT|Aqueduct Racetrac...|        null|                 Racing|Thoroughbred|              null|Private Details|JOHN P. TERRANOVA II|         null|Private Details-T...|           null|\n",
            "|2009|   03/04/2009|ON-TRACK ACCIDENT|Aqueduct Racetrac...|    Aqueduct|                 Racing|Thoroughbred|              null|   All Bets Off|         B E. LEVINE|         null|All Bets Off-Tr. ...|           null|\n",
            "|2009|   03/04/2009|ON-TRACK ACCIDENT|Aqueduct Racetrac...|    Aqueduct|                 Racing|Thoroughbred|              null| Hot Chile Soup|      ENRIQUE ARROYO|         null|Hot Chile Soup-Tr...|           null|\n",
            "|2009|   03/04/2009|ON-TRACK ACCIDENT|Aqueduct Racetrac...|    Aqueduct|                 Racing|Thoroughbred|              null|One Dream Union|      BRUCE R. BROWN|         null|One Dream Union-T...|           null|\n",
            "+----+-------------+-----------------+--------------------+------------+-----------------------+------------+------------------+---------------+--------------------+-------------+--------------------+---------------+\n",
            "only showing top 5 rows\n",
            "\n"
          ]
        }
      ],
      "execution_count": 22
    },
    {
      "cell_type": "code",
      "source": "df_injuries.printSchema()",
      "metadata": {
        "id": "slNzcIVr4_1j",
        "colab": {
          "base_uri": "https://localhost:8080/"
        },
        "executionInfo": {
          "status": "ok",
          "timestamp": 1670220894236,
          "user_tz": 360,
          "elapsed": 12,
          "user": {
            "displayName": "Yamil lovo",
            "userId": "04901077126197165237"
          }
        },
        "outputId": "cdc1d611-ef22-48d0-f295-da35185db3c4"
      },
      "outputs": [
        {
          "output_type": "stream",
          "name": "stdout",
          "text": [
            "root\n",
            " |-- year: integer (nullable = true)\n",
            " |-- incident_date: string (nullable = true)\n",
            " |-- incident_type: string (nullable = true)\n",
            " |-- track: string (nullable = true)\n",
            " |-- inv_location: string (nullable = true)\n",
            " |-- racing_type_description: string (nullable = true)\n",
            " |-- division: string (nullable = true)\n",
            " |-- weather_conditions: string (nullable = true)\n",
            " |-- horse: string (nullable = true)\n",
            " |-- trainer: string (nullable = true)\n",
            " |-- jockey_driver: string (nullable = true)\n",
            " |-- incident_description: string (nullable = true)\n",
            " |-- death_or_injury: string (nullable = true)\n",
            "\n"
          ]
        }
      ],
      "execution_count": 23
    },
    {
      "cell_type": "code",
      "source": "#Filtering the data that is relevant to our data set\ndf_injuries = df_injuries.filter((sf.col('year') == 2019) & \n                   (sf.col('track').contains('NYRA')) & \n                   (sf.col('racing_type_description').contains('Racing')) &\n                   (sf.col('jockey_driver').isNotNull()) &\n                   (sf.col('horse').isNotNull())    \n                   )\n",
      "metadata": {
        "id": "FXWXY17X5NQ6",
        "executionInfo": {
          "status": "ok",
          "timestamp": 1670220894237,
          "user_tz": 360,
          "elapsed": 10,
          "user": {
            "displayName": "Yamil lovo",
            "userId": "04901077126197165237"
          }
        }
      },
      "outputs": [],
      "execution_count": 24
    },
    {
      "cell_type": "code",
      "source": "df_injuries.show(5)",
      "metadata": {
        "id": "ijTDb8Hw7c1i",
        "colab": {
          "base_uri": "https://localhost:8080/"
        },
        "executionInfo": {
          "status": "ok",
          "timestamp": 1670220894557,
          "user_tz": 360,
          "elapsed": 328,
          "user": {
            "displayName": "Yamil lovo",
            "userId": "04901077126197165237"
          }
        },
        "outputId": "7caee578-41c6-4c6e-8e43-ab4fafe28082"
      },
      "outputs": [
        {
          "output_type": "stream",
          "name": "stdout",
          "text": [
            "+----+-------------+---------------+--------------------+--------------------+-----------------------+------------+------------------+--------------+--------------------+--------------------+--------------------+---------------+\n",
            "|year|incident_date|  incident_type|               track|        inv_location|racing_type_description|    division|weather_conditions|         horse|             trainer|       jockey_driver|incident_description|death_or_injury|\n",
            "+----+-------------+---------------+--------------------+--------------------+-----------------------+------------+------------------+--------------+--------------------+--------------------+--------------------+---------------+\n",
            "|2019|   01/04/2019|RACING INCIDENT|Aqueduct Racetrac...|         Before wire|                 Racing|Thoroughbred|              null|         Fifty|   DAVID A. CANNIZZO|        JOSE LEZCANO|Fifty-T:  David C...|           null|\n",
            "|2019|   01/06/2019|RACING INCIDENT|Aqueduct Racetrac...|                null|                 Racing|Thoroughbred|              null|    Letzgometz|JEREMIAH C. ENGLE...|         DYLAN DAVIS|Letzgometz (Tr:  ...|           null|\n",
            "|2019|   01/06/2019|  RACING INJURY|Aqueduct Racetrac...|after being unsad...|                 Racing|Thoroughbred|              null|My Best Friend|     HAROLD S. WYNER|REYLUIS A. GUTIERREZ|MY BEST FRIEND (T...|           null|\n",
            "|2019|   01/11/2019|  FALL OF RIDER|Aqueduct Racetrac...|                null|                 Racing|Thoroughbred|         30* Clear|   LIA SHIVANI|OSCAR S. BARRERA III|   CHRISTINA BONILLA|Lia Shivani-Tr-O....|           null|\n",
            "|2019|   01/12/2019|   EQUINE DEATH|Aqueduct Racetrac...|              03/ago|                 Racing|Thoroughbred|              null|    Westerdale|       THOMAS MORLEY|         DYLAN DAVIS|WESTERDALE-Tr. T....|     Euthanasia|\n",
            "+----+-------------+---------------+--------------------+--------------------+-----------------------+------------+------------------+--------------+--------------------+--------------------+--------------------+---------------+\n",
            "only showing top 5 rows\n",
            "\n"
          ]
        }
      ],
      "execution_count": 25
    },
    {
      "cell_type": "code",
      "source": "df_injuries = df_injuries.drop('year', 'trainer', 'incident_description', 'inv_location', 'racing_type_description', 'division', 'weather_conditions','death_or_injury')\ndf_injuries.printSchema()",
      "metadata": {
        "id": "5DT6AK6cCXN-",
        "colab": {
          "base_uri": "https://localhost:8080/"
        },
        "executionInfo": {
          "status": "ok",
          "timestamp": 1670220894815,
          "user_tz": 360,
          "elapsed": 260,
          "user": {
            "displayName": "Yamil lovo",
            "userId": "04901077126197165237"
          }
        },
        "outputId": "03a3a30f-f474-4526-b608-d67413f1a311"
      },
      "outputs": [
        {
          "output_type": "stream",
          "name": "stdout",
          "text": [
            "root\n",
            " |-- incident_date: string (nullable = true)\n",
            " |-- incident_type: string (nullable = true)\n",
            " |-- track: string (nullable = true)\n",
            " |-- horse: string (nullable = true)\n",
            " |-- jockey_driver: string (nullable = true)\n",
            "\n"
          ]
        }
      ],
      "execution_count": 26
    },
    {
      "cell_type": "markdown",
      "source": "Matching jockey name with the original dataset names",
      "metadata": {
        "id": "ijkSZt1DKesf"
      }
    },
    {
      "cell_type": "code",
      "source": "df_injuries = df_injuries.withColumn('jockey_driver',sf.initcap(sf.col('jockey_driver'))) #Changing format of names from Uppercase to Sentence Case\ndf_injuries.select(df_injuries.jockey_driver).distinct().show(df_injuries.count(),False)",
      "metadata": {
        "id": "CEy6nhAUFdEi",
        "colab": {
          "base_uri": "https://localhost:8080/"
        },
        "executionInfo": {
          "status": "ok",
          "timestamp": 1670220895793,
          "user_tz": 360,
          "elapsed": 980,
          "user": {
            "displayName": "Yamil lovo",
            "userId": "04901077126197165237"
          }
        },
        "outputId": "41743319-fbbc-463e-c52e-33117e100a2d"
      },
      "outputs": [
        {
          "output_type": "stream",
          "name": "stdout",
          "text": [
            "+-------------------------+\n",
            "|jockey_driver            |\n",
            "+-------------------------+\n",
            "|Christina Bonilla        |\n",
            "|Julio A. Correa Alamo    |\n",
            "|Carlos J. Hernandez **   |\n",
            "|Luis A. Rodriguez  Castro|\n",
            "|Christopher P. Decarlo   |\n",
            "|Tyler S. Gaffalione      |\n",
            "|Andrea C. Rodriguez-caez |\n",
            "|Luis R. Reyes            |\n",
            "|Gerard J. Galligan       |\n",
            "|Javier J. Castellano     |\n",
            "|Ricardo Santana Jr       |\n",
            "|Manuel Franco            |\n",
            "|Reyluis A. Gutierrez     |\n",
            "|Samuel Camacho           |\n",
            "|Kendrick Carmouche       |\n",
            "|Irad Ortiz Jr            |\n",
            "|John Bisono              |\n",
            "|Talbert Howell           |\n",
            "|Junior R. Alvarado       |\n",
            "|Dylan Davis              |\n",
            "|Michael D. Mitchell      |\n",
            "|Eric Cancel              |\n",
            "|Rajiv C. Maragh          |\n",
            "|Pascasio(paco) Lopez     |\n",
            "|Jose Lezcano             |\n",
            "|Hector R. Diaz Jr        |\n",
            "|Michael J. Luzzi         |\n",
            "|Jose A. Baez             |\n",
            "|Dyn O. Panell            |\n",
            "|Pablo Fragoso            |\n",
            "|Kirk Johnson             |\n",
            "|Luis Saez                |\n",
            "|Jose L. Ortiz            |\n",
            "|Benjamin Hernandez  Soto |\n",
            "|Barry J. Foley           |\n",
            "|Chris M. Landeros        |\n",
            "|Joel Rosario             |\n",
            "+-------------------------+\n",
            "\n"
          ]
        }
      ],
      "execution_count": 27
    },
    {
      "cell_type": "code",
      "source": "df_injuries.select(df_injuries.jockey_driver).distinct().count()",
      "metadata": {
        "id": "dfKvA9EyIYxU",
        "colab": {
          "base_uri": "https://localhost:8080/"
        },
        "executionInfo": {
          "status": "ok",
          "timestamp": 1670220896482,
          "user_tz": 360,
          "elapsed": 693,
          "user": {
            "displayName": "Yamil lovo",
            "userId": "04901077126197165237"
          }
        },
        "outputId": "b54ba9e9-8cd9-4029-f3f6-bed30eac7a96"
      },
      "outputs": [
        {
          "output_type": "execute_result",
          "data": {
            "text/plain": [
              "37"
            ]
          },
          "metadata": {},
          "execution_count": 28
        }
      ],
      "execution_count": 28
    },
    {
      "cell_type": "code",
      "source": "df_start.select(df_start.jockey).distinct().show(df_start.count(),False)",
      "metadata": {
        "id": "-sbKUOlxGsft",
        "colab": {
          "base_uri": "https://localhost:8080/"
        },
        "executionInfo": {
          "status": "ok",
          "timestamp": 1670220897071,
          "user_tz": 360,
          "elapsed": 592,
          "user": {
            "displayName": "Yamil lovo",
            "userId": "04901077126197165237"
          }
        },
        "outputId": "a5a8ccf0-9232-438e-bec4-56d59959e23d"
      },
      "outputs": [
        {
          "output_type": "stream",
          "name": "stdout",
          "text": [
            "+--------------------------+\n",
            "|jockey                    |\n",
            "+--------------------------+\n",
            "|Shannon Uske              |\n",
            "|Carlos J. Hernandez       |\n",
            "|Jomar Torres              |\n",
            "|Leonel Reyes              |\n",
            "|Joel Sone                 |\n",
            "|Sam Twiston-Davies        |\n",
            "|Benjamin Hernandez        |\n",
            "|Wayne Lordan              |\n",
            "|Kieran Norris             |\n",
            "|Virginia Tormey           |\n",
            "|Junior Alvarado           |\n",
            "|Declan Carroll            |\n",
            "|Dana G. Whitney           |\n",
            "|Flavien Prat              |\n",
            "|Suguru Hamanaka           |\n",
            "|Emanuel De Diego          |\n",
            "|Channing Hill             |\n",
            "|Andrea Atzeni             |\n",
            "|Jose F. Rojas             |\n",
            "|Reylu Gutierrez           |\n",
            "|Rosario Montanez          |\n",
            "|Mario Gutierrez           |\n",
            "|Hector Rafael Diaz Jr.    |\n",
            "|Rafael Manuel Hernandez   |\n",
            "|Joseph Talamo             |\n",
            "|Jomar Garcia              |\n",
            "|Jose Antonio Gallego      |\n",
            "|Wilmer A. Garcia          |\n",
            "|Mike E. Smith             |\n",
            "|Brian Joseph Hernandez Jr.|\n",
            "|Jeremy Rose               |\n",
            "|Victor Espinoza           |\n",
            "|Weston Hamilton           |\n",
            "|Katie Davis               |\n",
            "|Forest Boyce              |\n",
            "|Robbie G. Davis           |\n",
            "|Georgina Sergeon          |\n",
            "|Kody Kellenberger         |\n",
            "|Luis R. Reyes             |\n",
            "|Kevin Carmona             |\n",
            "|Oscar Gomez               |\n",
            "|Jack Doyle                |\n",
            "|J. D. Acosta              |\n",
            "|Christopher P. DeCarlo    |\n",
            "|Heman K. Harkie           |\n",
            "|Jose R. Betancourt        |\n",
            "|Danny Mullins             |\n",
            "|Daniel Centeno            |\n",
            "|Sean McDermott            |\n",
            "|Johan Rosado              |\n",
            "|Antonio A. Gallardo       |\n",
            "|Corey J. Lanerie          |\n",
            "|Adam Beschizza            |\n",
            "|Nathan Vickers            |\n",
            "|Tammi Piermarini          |\n",
            "|Jorge A. Vargas Jr.       |\n",
            "|Manuel Franco             |\n",
            "|Vince Halliday            |\n",
            "|Jamie P. Spencer          |\n",
            "|Joe Bravo                 |\n",
            "|Anthony Salgado           |\n",
            "|Sheldon Russell           |\n",
            "|Charlie Amaro             |\n",
            "|Andrea C. Rodriguez       |\n",
            "|Tyler Baze                |\n",
            "|Angel Suarez              |\n",
            "|Shaun Bridgmohan          |\n",
            "|Jozef Bojko               |\n",
            "|Carol Cedeno              |\n",
            "|Michael Hussey            |\n",
            "|Arienne Cox               |\n",
            "|Mark Watts                |\n",
            "|Kendrick Carmouche        |\n",
            "|Bernard Dalton            |\n",
            "|Ruben Silvera             |\n",
            "|John Bisono               |\n",
            "|Edgar S. Prado            |\n",
            "|Jose C. Ferrer            |\n",
            "|Trevor McCarthy           |\n",
            "|Stephane Pasquier         |\n",
            "|Ben Curtis                |\n",
            "|Barry Foley               |\n",
            "|Talbert Howell            |\n",
            "|Christian Santiago Reyes  |\n",
            "|Christophe Soumillon      |\n",
            "|Luca Panici               |\n",
            "|Dylan Davis               |\n",
            "|Tony Piccone              |\n",
            "|Jose Baez                 |\n",
            "|Nazario Alvarado          |\n",
            "|Erick Lopez               |\n",
            "|Victor R. Carrasco        |\n",
            "|Ross Geraghty             |\n",
            "|Eric Cancel               |\n",
            "|Tzeonn Chang              |\n",
            "|Gavin Coetzee             |\n",
            "|Harry Hernandez           |\n",
            "|Jorge L. Vargas Jr.       |\n",
            "|Jose Angel Garcia         |\n",
            "|Tomas B. Mejia            |\n",
            "|Jorge Ruiz                |\n",
            "|Tyler Conner              |\n",
            "|Alex Cintron              |\n",
            "|Rajiv Maragh              |\n",
            "|Michael Mitchell          |\n",
            "|Thomas Garner             |\n",
            "|Florent Geroux            |\n",
            "|Cristina Bonilla          |\n",
            "|Emmanuel Esquivel         |\n",
            "|Jeffrey Sanchez           |\n",
            "|Ricardo Santana Jr.       |\n",
            "|Feargal Lynch             |\n",
            "|Joey R. Martinez          |\n",
            "|Jose Lezcano              |\n",
            "|Paco Lopez                |\n",
            "|Cory Orm                  |\n",
            "|Frankie Pennington        |\n",
            "|Keivan Serrano            |\n",
            "|Michael J. Luzzi          |\n",
            "|Luis A. Rodriguez Castro  |\n",
            "|Daisuke Fukumoto          |\n",
            "|Irad Ortiz Jr.            |\n",
            "|Edward Escobar            |\n",
            "|Declan Cannon             |\n",
            "|Dalton Brown              |\n",
            "|William McCarthy          |\n",
            "|Martin Chuan              |\n",
            "|Samuel Jimenez            |\n",
            "|Javier Castellano         |\n",
            "|Jevian Toledo             |\n",
            "|Adrian Flores             |\n",
            "|Adam Bowman               |\n",
            "|David Cohen               |\n",
            "|Gary Richards             |\n",
            "|Julio Correa              |\n",
            "|Samuel Camacho Jr.        |\n",
            "|Navin Mangalee            |\n",
            "|Steven Ronald Bahen       |\n",
            "|Emisael Jaramillo         |\n",
            "|John R. Velazquez         |\n",
            "|Julian Pimentel           |\n",
            "|Silvestre Gonzalez        |\n",
            "|Jaime Rodriguez           |\n",
            "|Pablo Fragoso             |\n",
            "|Grant Whitacre            |\n",
            "|Nik Juarez                |\n",
            "|Leonardo Corujo           |\n",
            "|Tyler Gaffalione          |\n",
            "|Jeremias Flores           |\n",
            "|Chris Landeros            |\n",
            "|Kirk Johnson              |\n",
            "|Luis Saez                 |\n",
            "|Miguel A. Melendez        |\n",
            "|Winston R. Kay            |\n",
            "|Jose L. Ortiz             |\n",
            "|Jorge M. Perez            |\n",
            "|Angel Castillo            |\n",
            "|Julien R. Leparoux        |\n",
            "|Sophie Doyle              |\n",
            "|Angel R. Rodriguez        |\n",
            "|Mychel J. Sanchez         |\n",
            "|Graham Watters            |\n",
            "|Charles C. Lopez          |\n",
            "|Angel Cruz                |\n",
            "|Dyn Panell                |\n",
            "|Kevin Gomez               |\n",
            "|Edwin Rivera              |\n",
            "|Darren Nagle              |\n",
            "|Luis Cardenas             |\n",
            "|Gerard Galligan           |\n",
            "|Abner Adorno              |\n",
            "|Joel Rosario              |\n",
            "|Miyabi Muto               |\n",
            "|Rachael Blackmore         |\n",
            "|Andre Shivnarine Worrie   |\n",
            "|Andrew Wolfsont           |\n",
            "|Richard A. Bracho         |\n",
            "|Jose A. Bracho            |\n",
            "+--------------------------+\n",
            "\n"
          ]
        }
      ],
      "execution_count": 29
    },
    {
      "cell_type": "code",
      "source": "jockey_dic = {'Reyluis A. Gutierrez' : 'Reylu Gutierrez',\n               'Christina Bonilla' : 'Cristina Bonilla',\n               'Dyn O. Panell' : 'Dyn Panell',\n               'Benjamin Hernandez  Soto' : 'Benjamin Hernandez',\n               'Junior R. Alvarado' : 'Junior Alvarado',\n               'Carlos J. Hernandez **': 'Carlos J. Hernandez' , \n               'Christopher P. Decarlo' : 'Christopher P. DeCarlo',\n               'Rajiv C. Maragh' : 'Rajiv Maragh',\n               'Samuel Camacho' : 'Samuel Camacho Jr.',\n               'Irad Ortiz Jr' : 'Irad Ortiz Jr.',\n               'Javier J. Castellano' : 'Javier Castellano',\n               'Andrea C. Rodriguez-Caez' : 'Andrea C. Rodriguez',\n               'Jose A. Baez': 'Jose Baez', \n               'Chris M. Landeros' : 'Chris Landeros',\n               'Ricardo Santana Jr' :'Ricardo Santana Jr.',\n               'Tyler S. Gaffalione' : 'Tyler Gaffalione',\n               'Pascasio(Paco) Lopez' :'Paco Lopez',\n               'Luis A. Rodriguez  Castro' :  'Luis A. Rodriguez Castro',\n               'Hector R. Diaz Jr' :  'Hector Rafael Diaz Jr.',\n               'Julio A. Correa Alamo' : 'Julio Correa',}\n\n\ndf_injuries.replace(jockey_dic,1,'jockey_driver').show(5)",
      "metadata": {
        "id": "yP7E0-XzDmA0",
        "colab": {
          "base_uri": "https://localhost:8080/"
        },
        "executionInfo": {
          "status": "ok",
          "timestamp": 1670220898148,
          "user_tz": 360,
          "elapsed": 1084,
          "user": {
            "displayName": "Yamil lovo",
            "userId": "04901077126197165237"
          }
        },
        "outputId": "f742583d-8ffa-45a7-9d32-aa794bc96695"
      },
      "outputs": [
        {
          "output_type": "stream",
          "name": "stderr",
          "text": [
            "/usr/local/lib/python3.8/dist-packages/pyspark/sql/dataframe.py:2722: UserWarning: to_replace is a dict and value is not None. value will be ignored.\n",
            "  warnings.warn(\"to_replace is a dict and value is not None. value will be ignored.\")\n"
          ]
        },
        {
          "output_type": "stream",
          "name": "stdout",
          "text": [
            "+-------------+---------------+--------------------+--------------+----------------+\n",
            "|incident_date|  incident_type|               track|         horse|   jockey_driver|\n",
            "+-------------+---------------+--------------------+--------------+----------------+\n",
            "|   01/04/2019|RACING INCIDENT|Aqueduct Racetrac...|         Fifty|    Jose Lezcano|\n",
            "|   01/06/2019|RACING INCIDENT|Aqueduct Racetrac...|    Letzgometz|     Dylan Davis|\n",
            "|   01/06/2019|  RACING INJURY|Aqueduct Racetrac...|My Best Friend| Reylu Gutierrez|\n",
            "|   01/11/2019|  FALL OF RIDER|Aqueduct Racetrac...|   LIA SHIVANI|Cristina Bonilla|\n",
            "|   01/12/2019|   EQUINE DEATH|Aqueduct Racetrac...|    Westerdale|     Dylan Davis|\n",
            "+-------------+---------------+--------------------+--------------+----------------+\n",
            "only showing top 5 rows\n",
            "\n"
          ]
        }
      ],
      "execution_count": 30
    },
    {
      "cell_type": "code",
      "source": "df_injuries.select(df_injuries.jockey_driver).distinct().count() #Verifying no unique values were created or erased after replacing the values of the dataset with the diccionary",
      "metadata": {
        "id": "gg92k4c_EKsk",
        "colab": {
          "base_uri": "https://localhost:8080/"
        },
        "executionInfo": {
          "status": "ok",
          "timestamp": 1670220898149,
          "user_tz": 360,
          "elapsed": 9,
          "user": {
            "displayName": "Yamil lovo",
            "userId": "04901077126197165237"
          }
        },
        "outputId": "85753f79-b600-497b-db71-ab62fa618f2e"
      },
      "outputs": [
        {
          "output_type": "execute_result",
          "data": {
            "text/plain": [
              "37"
            ]
          },
          "metadata": {},
          "execution_count": 31
        }
      ],
      "execution_count": 31
    },
    {
      "cell_type": "code",
      "source": "#Matching track name with the original dataset track names\n\ntrack_dic = {'Aqueduct Racetrack (NYRA)' : 'AQU',\n               'Belmont Park (NYRA)' : 'BEL',\n               'Saratoga Racecourse (NYRA)' : 'SAR',}\n\n\ndf_injuries = df_injuries.replace(track_dic,1,'track')\n\ndf_injuries = df_injuries.withColumnRenamed('track',\n                                            'track_id').withColumnRenamed('horse','horse_name').withColumnRenamed('jockey_driver','jockey')\ndf_injuries.show(5)",
      "metadata": {
        "id": "aC0iX821SVYW",
        "colab": {
          "base_uri": "https://localhost:8080/"
        },
        "executionInfo": {
          "status": "ok",
          "timestamp": 1670220898149,
          "user_tz": 360,
          "elapsed": 7,
          "user": {
            "displayName": "Yamil lovo",
            "userId": "04901077126197165237"
          }
        },
        "outputId": "372a63c0-dcd0-495e-c5b0-f172a50b3d34"
      },
      "outputs": [
        {
          "output_type": "stream",
          "name": "stdout",
          "text": [
            "+-------------+---------------+--------+--------------+--------------------+\n",
            "|incident_date|  incident_type|track_id|    horse_name|              jockey|\n",
            "+-------------+---------------+--------+--------------+--------------------+\n",
            "|   01/04/2019|RACING INCIDENT|     AQU|         Fifty|        Jose Lezcano|\n",
            "|   01/06/2019|RACING INCIDENT|     AQU|    Letzgometz|         Dylan Davis|\n",
            "|   01/06/2019|  RACING INJURY|     AQU|My Best Friend|Reyluis A. Gutierrez|\n",
            "|   01/11/2019|  FALL OF RIDER|     AQU|   LIA SHIVANI|   Christina Bonilla|\n",
            "|   01/12/2019|   EQUINE DEATH|     AQU|    Westerdale|         Dylan Davis|\n",
            "+-------------+---------------+--------+--------------+--------------------+\n",
            "only showing top 5 rows\n",
            "\n"
          ]
        }
      ],
      "execution_count": 32
    },
    {
      "cell_type": "code",
      "source": "",
      "metadata": {
        "id": "jHBki2-3SVBf",
        "executionInfo": {
          "status": "ok",
          "timestamp": 1670220898150,
          "user_tz": 360,
          "elapsed": 6,
          "user": {
            "displayName": "Yamil lovo",
            "userId": "04901077126197165237"
          }
        }
      },
      "outputs": [],
      "execution_count": 32
    },
    {
      "cell_type": "markdown",
      "source": "#### Dataset: Horses\n\nThe dataset Horses contains two files: horse_ID which contains information about the horse's races (track_id, program_number, race_date, race_number), and horse_name, which contains the ID of the horse and its name. We will use the column ID_horse created before in table df_complete to merge all datasets.",
      "metadata": {
        "id": "MHOhCI7oNyUV"
      }
    },
    {
      "cell_type": "code",
      "source": "schema_horses_name = StructType([\n    StructField('_c0', IntegerType(),  True),\n    StructField('horse_id', IntegerType(),  True),\n    StructField('horse_name',StringType(),   True)\n    ])\n\ndf_horses_name = spark.read.csv('/content/drive/My Drive/Big_Data/horse_names.csv', header=True, schema=schema_horses_name)\ndf_horses_name = df_horses_name.drop('_c0')\ndf_horses_name.show(5)",
      "metadata": {
        "id": "DSqxFuO2N0On",
        "colab": {
          "base_uri": "https://localhost:8080/"
        },
        "executionInfo": {
          "status": "ok",
          "timestamp": 1670220898688,
          "user_tz": 360,
          "elapsed": 544,
          "user": {
            "displayName": "Yamil lovo",
            "userId": "04901077126197165237"
          }
        },
        "outputId": "5857ebaf-2ef5-490d-e366-58f24243b7b5"
      },
      "outputs": [
        {
          "output_type": "stream",
          "name": "stdout",
          "text": [
            "+--------+------------------+\n",
            "|horse_id|        horse_name|\n",
            "+--------+------------------+\n",
            "|       0|Jc's Shooting Star|\n",
            "|       1|  Sounds Delicious|\n",
            "|       2|     Crimson Frost|\n",
            "|       3| Friend of Liberty|\n",
            "|       4|      Bobby's Song|\n",
            "+--------+------------------+\n",
            "only showing top 5 rows\n",
            "\n"
          ]
        }
      ],
      "execution_count": 33
    },
    {
      "cell_type": "code",
      "source": "df_horses_name.printSchema()",
      "metadata": {
        "id": "reIf-pDyQFcP",
        "colab": {
          "base_uri": "https://localhost:8080/"
        },
        "executionInfo": {
          "status": "ok",
          "timestamp": 1670220898689,
          "user_tz": 360,
          "elapsed": 7,
          "user": {
            "displayName": "Yamil lovo",
            "userId": "04901077126197165237"
          }
        },
        "outputId": "3d759ad3-75af-4297-c4c0-48780915790f"
      },
      "outputs": [
        {
          "output_type": "stream",
          "name": "stdout",
          "text": [
            "root\n",
            " |-- horse_id: integer (nullable = true)\n",
            " |-- horse_name: string (nullable = true)\n",
            "\n"
          ]
        }
      ],
      "execution_count": 34
    },
    {
      "cell_type": "code",
      "source": "schema_horses_id = StructType([\n    StructField('_c0', IntegerType(),  True),\n    StructField('track_id', StringType(),  True),\n    StructField('race_date',StringType(),   True),\n    StructField('race',IntegerType(),   True),\n    StructField('program_number',StringType(),   True),\n    StructField('horse_id',IntegerType(),   True),\n    StructField('finishing_place',IntegerType(),   True)\n    ])\n\ndf_horses_id = spark.read.csv('/content/drive/My Drive/Big_Data/horse_ids.csv', header=True, schema=schema_horses_id)\n\ndf_horses_id = df_horses_id.withColumn('program_number', sf.trim(df_horses_id.program_number))\ndf_horses_id = df_horses_id.withColumn('program_number', df_horses_id.program_number.cast(IntegerType()))\n\ndf_horses_id = df_horses_id.drop('_c0')\ndf_horses_id.show(5)",
      "metadata": {
        "id": "A2SdZkivQgVg",
        "colab": {
          "base_uri": "https://localhost:8080/"
        },
        "executionInfo": {
          "status": "ok",
          "timestamp": 1670220899260,
          "user_tz": 360,
          "elapsed": 575,
          "user": {
            "displayName": "Yamil lovo",
            "userId": "04901077126197165237"
          }
        },
        "outputId": "a6debec9-a039-40fc-b344-a5d2e502b325"
      },
      "outputs": [
        {
          "output_type": "stream",
          "name": "stdout",
          "text": [
            "+--------+----------+----+--------------+--------+---------------+\n",
            "|track_id| race_date|race|program_number|horse_id|finishing_place|\n",
            "+--------+----------+----+--------------+--------+---------------+\n",
            "|     AQU|2019-01-01|   1|             5|       0|              1|\n",
            "|     AQU|2019-01-01|   1|             1|       1|              2|\n",
            "|     AQU|2019-01-01|   1|             2|       2|              3|\n",
            "|     AQU|2019-01-01|   1|             3|       3|              4|\n",
            "|     AQU|2019-01-01|   1|             4|       4|              5|\n",
            "+--------+----------+----+--------------+--------+---------------+\n",
            "only showing top 5 rows\n",
            "\n"
          ]
        }
      ],
      "execution_count": 35
    },
    {
      "cell_type": "code",
      "source": "df_horses_id.printSchema()",
      "metadata": {
        "id": "CsNNfs37QuHp",
        "colab": {
          "base_uri": "https://localhost:8080/"
        },
        "executionInfo": {
          "status": "ok",
          "timestamp": 1670220899261,
          "user_tz": 360,
          "elapsed": 7,
          "user": {
            "displayName": "Yamil lovo",
            "userId": "04901077126197165237"
          }
        },
        "outputId": "b0c581a3-1f25-47a1-84d6-f71c69fc795a"
      },
      "outputs": [
        {
          "output_type": "stream",
          "name": "stdout",
          "text": [
            "root\n",
            " |-- track_id: string (nullable = true)\n",
            " |-- race_date: string (nullable = true)\n",
            " |-- race: integer (nullable = true)\n",
            " |-- program_number: integer (nullable = true)\n",
            " |-- horse_id: integer (nullable = true)\n",
            " |-- finishing_place: integer (nullable = true)\n",
            "\n"
          ]
        }
      ],
      "execution_count": 36
    },
    {
      "cell_type": "code",
      "source": "df_horses = df_horses_id.join(df_horses_name, df_horses_id.horse_id == df_horses_name.horse_id, 'outer')",
      "metadata": {
        "id": "iW_fDgGBTlcX",
        "executionInfo": {
          "status": "ok",
          "timestamp": 1670220899262,
          "user_tz": 360,
          "elapsed": 5,
          "user": {
            "displayName": "Yamil lovo",
            "userId": "04901077126197165237"
          }
        }
      },
      "outputs": [],
      "execution_count": 37
    },
    {
      "cell_type": "code",
      "source": "df_horses.show(5)",
      "metadata": {
        "id": "MaublsBkTlY7",
        "colab": {
          "base_uri": "https://localhost:8080/"
        },
        "executionInfo": {
          "status": "ok",
          "timestamp": 1670220900532,
          "user_tz": 360,
          "elapsed": 1275,
          "user": {
            "displayName": "Yamil lovo",
            "userId": "04901077126197165237"
          }
        },
        "outputId": "e7035df1-4e32-48fe-f800-50d1893b0241"
      },
      "outputs": [
        {
          "output_type": "stream",
          "name": "stdout",
          "text": [
            "+--------+----------+----+--------------+--------+---------------+--------+------------------+\n",
            "|track_id| race_date|race|program_number|horse_id|finishing_place|horse_id|        horse_name|\n",
            "+--------+----------+----+--------------+--------+---------------+--------+------------------+\n",
            "|     AQU|2019-01-01|   1|             5|       0|              1|       0|Jc's Shooting Star|\n",
            "|     AQU|2019-12-07|   4|             5|       0|              5|       0|Jc's Shooting Star|\n",
            "|     AQU|2019-12-20|   7|             5|       0|              6|       0|Jc's Shooting Star|\n",
            "|     BEL|2019-05-27|   5|             4|       0|             10|       0|Jc's Shooting Star|\n",
            "|     BEL|2019-06-15|   9|             1|       0|              2|       0|Jc's Shooting Star|\n",
            "+--------+----------+----+--------------+--------+---------------+--------+------------------+\n",
            "only showing top 5 rows\n",
            "\n"
          ]
        }
      ],
      "execution_count": 38
    },
    {
      "cell_type": "code",
      "source": "#Matching columnd ID_horse to join horse's information with original dataset\ndf_horses = df_horses.withColumn('ID_horse', \n                    sf.concat(sf.col('track_id'),sf.lit('_'), sf.col('race_date'),sf.lit('_'), sf.col('race'),sf.lit('_'),sf.col('program_number')))\ndf_horses = df_horses.withColumnRenamed('race',\n                                        'race_number').withColumnRenamed('finishing_place','position_at_finish')\n\ndf_horses = df_horses.drop('horse_id')\ndf_horses.show(5)\n",
      "metadata": {
        "id": "dU4vVY6ZTlVP",
        "colab": {
          "base_uri": "https://localhost:8080/"
        },
        "executionInfo": {
          "status": "ok",
          "timestamp": 1670220901287,
          "user_tz": 360,
          "elapsed": 758,
          "user": {
            "displayName": "Yamil lovo",
            "userId": "04901077126197165237"
          }
        },
        "outputId": "543ff119-fe73-40fa-f17e-21eb61da6639"
      },
      "outputs": [
        {
          "output_type": "stream",
          "name": "stdout",
          "text": [
            "+--------+----------+-----------+--------------+------------------+------------------+------------------+\n",
            "|track_id| race_date|race_number|program_number|position_at_finish|        horse_name|          ID_horse|\n",
            "+--------+----------+-----------+--------------+------------------+------------------+------------------+\n",
            "|     AQU|2019-01-01|          1|             5|                 1|Jc's Shooting Star|AQU_2019-01-01_1_5|\n",
            "|     AQU|2019-12-07|          4|             5|                 5|Jc's Shooting Star|AQU_2019-12-07_4_5|\n",
            "|     AQU|2019-12-20|          7|             5|                 6|Jc's Shooting Star|AQU_2019-12-20_7_5|\n",
            "|     BEL|2019-05-27|          5|             4|                10|Jc's Shooting Star|BEL_2019-05-27_5_4|\n",
            "|     BEL|2019-06-15|          9|             1|                 2|Jc's Shooting Star|BEL_2019-06-15_9_1|\n",
            "+--------+----------+-----------+--------------+------------------+------------------+------------------+\n",
            "only showing top 5 rows\n",
            "\n"
          ]
        }
      ],
      "execution_count": 39
    },
    {
      "cell_type": "markdown",
      "source": "####Dataset preparation \n\nMerging table: Complete, injuries and horses.\n",
      "metadata": {
        "id": "V9GVH9OMrat_"
      }
    },
    {
      "cell_type": "code",
      "source": "df_injuries.count()",
      "metadata": {
        "id": "8IxmaGyF05UT",
        "colab": {
          "base_uri": "https://localhost:8080/"
        },
        "executionInfo": {
          "status": "ok",
          "timestamp": 1670220902292,
          "user_tz": 360,
          "elapsed": 1008,
          "user": {
            "displayName": "Yamil lovo",
            "userId": "04901077126197165237"
          }
        },
        "outputId": "ed17a005-bcb8-4861-8906-672fd39828c4"
      },
      "outputs": [
        {
          "output_type": "execute_result",
          "data": {
            "text/plain": [
              "98"
            ]
          },
          "metadata": {},
          "execution_count": 40
        }
      ],
      "execution_count": 40
    },
    {
      "cell_type": "code",
      "source": "df_horses.count()",
      "metadata": {
        "id": "LGiBc2eq07IF",
        "colab": {
          "base_uri": "https://localhost:8080/"
        },
        "executionInfo": {
          "status": "ok",
          "timestamp": 1670220902619,
          "user_tz": 360,
          "elapsed": 328,
          "user": {
            "displayName": "Yamil lovo",
            "userId": "04901077126197165237"
          }
        },
        "outputId": "c5f10f91-3bb9-4b74-d50c-f0fa426ae0c9"
      },
      "outputs": [
        {
          "output_type": "execute_result",
          "data": {
            "text/plain": [
              "14916"
            ]
          },
          "metadata": {},
          "execution_count": 41
        }
      ],
      "execution_count": 41
    },
    {
      "cell_type": "code",
      "source": "df_inj_horses = df_injuries.join(df_horses, ['horse_name','track_id'] ,'left')\ndf_inj_horses.show(5)",
      "metadata": {
        "id": "7QieLy6bTlQl",
        "colab": {
          "base_uri": "https://localhost:8080/"
        },
        "executionInfo": {
          "status": "ok",
          "timestamp": 1670220904575,
          "user_tz": 360,
          "elapsed": 1958,
          "user": {
            "displayName": "Yamil lovo",
            "userId": "04901077126197165237"
          }
        },
        "outputId": "9f981cce-1f17-406f-d310-2b6c2b39c5e4"
      },
      "outputs": [
        {
          "output_type": "stream",
          "name": "stdout",
          "text": [
            "+-----------+--------+-------------+---------------+-----------------+----------+-----------+--------------+------------------+------------------+\n",
            "| horse_name|track_id|incident_date|  incident_type|           jockey| race_date|race_number|program_number|position_at_finish|          ID_horse|\n",
            "+-----------+--------+-------------+---------------+-----------------+----------+-----------+--------------+------------------+------------------+\n",
            "|      Fifty|     AQU|   01/04/2019|RACING INCIDENT|     Jose Lezcano|2019-01-04|          6|             1|                 7|AQU_2019-01-04_6_1|\n",
            "|      Fifty|     AQU|   01/04/2019|RACING INCIDENT|     Jose Lezcano|2019-02-07|          8|             6|                 4|AQU_2019-02-07_8_6|\n",
            "|      Fifty|     AQU|   01/04/2019|RACING INCIDENT|     Jose Lezcano|2019-02-28|          6|             2|                 6|AQU_2019-02-28_6_2|\n",
            "|LIA SHIVANI|     AQU|   01/11/2019|  FALL OF RIDER|Christina Bonilla|      null|       null|          null|              null|              null|\n",
            "| Letzgometz|     AQU|   01/06/2019|RACING INCIDENT|      Dylan Davis|2019-01-06|          4|             4|                 4|AQU_2019-01-06_4_4|\n",
            "+-----------+--------+-------------+---------------+-----------------+----------+-----------+--------------+------------------+------------------+\n",
            "only showing top 5 rows\n",
            "\n"
          ]
        }
      ],
      "execution_count": 42
    },
    {
      "cell_type": "code",
      "source": "df_inj_horses.count()",
      "metadata": {
        "id": "eP1MbriJ1Bya",
        "colab": {
          "base_uri": "https://localhost:8080/"
        },
        "executionInfo": {
          "status": "ok",
          "timestamp": 1670220905385,
          "user_tz": 360,
          "elapsed": 815,
          "user": {
            "displayName": "Yamil lovo",
            "userId": "04901077126197165237"
          }
        },
        "outputId": "de815ca1-f137-440c-9f3c-36ac6ed6a09f"
      },
      "outputs": [
        {
          "output_type": "execute_result",
          "data": {
            "text/plain": [
              "194"
            ]
          },
          "metadata": {},
          "execution_count": 43
        }
      ],
      "execution_count": 43
    },
    {
      "cell_type": "code",
      "source": "df_injuries.select(sf.countDistinct('track_id')).show()",
      "metadata": {
        "id": "qNSrnnTw4-8y",
        "colab": {
          "base_uri": "https://localhost:8080/"
        },
        "executionInfo": {
          "status": "ok",
          "timestamp": 1670220905912,
          "user_tz": 360,
          "elapsed": 529,
          "user": {
            "displayName": "Yamil lovo",
            "userId": "04901077126197165237"
          }
        },
        "outputId": "0e5f83e6-32be-4cfa-90c9-1328233b3515"
      },
      "outputs": [
        {
          "output_type": "stream",
          "name": "stdout",
          "text": [
            "+------------------------+\n",
            "|count(DISTINCT track_id)|\n",
            "+------------------------+\n",
            "|                       3|\n",
            "+------------------------+\n",
            "\n"
          ]
        }
      ],
      "execution_count": 44
    },
    {
      "cell_type": "code",
      "source": "df_complete.count()",
      "metadata": {
        "id": "Nb_YgiLA1D9f",
        "colab": {
          "base_uri": "https://localhost:8080/"
        },
        "executionInfo": {
          "status": "ok",
          "timestamp": 1670220910277,
          "user_tz": 360,
          "elapsed": 4369,
          "user": {
            "displayName": "Yamil lovo",
            "userId": "04901077126197165237"
          }
        },
        "outputId": "094c891d-24e9-4fe7-a9dd-adcd4b51522b"
      },
      "outputs": [
        {
          "output_type": "execute_result",
          "data": {
            "text/plain": [
              "5228430"
            ]
          },
          "metadata": {},
          "execution_count": 45
        }
      ],
      "execution_count": 45
    },
    {
      "cell_type": "code",
      "source": "df_prepped = df_complete.join(df_inj_horses, ['ID_horse','track_id','race_date','race_number','program_number','jockey','position_at_finish'],how='left')\ndf_prepped.show(10)",
      "metadata": {
        "id": "f0g3LFVTrOKH",
        "colab": {
          "base_uri": "https://localhost:8080/"
        },
        "executionInfo": {
          "status": "ok",
          "timestamp": 1670220911875,
          "user_tz": 360,
          "elapsed": 1614,
          "user": {
            "displayName": "Yamil lovo",
            "userId": "04901077126197165237"
          }
        },
        "outputId": "dfb3f85a-635c-4cae-b487-dc9663524279"
      },
      "outputs": [
        {
          "output_type": "stream",
          "name": "stdout",
          "text": [
            "+------------------+--------+----------+-----------+--------------+--------------------+------------------+------------+----------------+-----------------+-----------+-----------+---------------+---------------+---------+-------+---------+--------------+----+----------+-------------+-------------+\n",
            "|          ID_horse|track_id| race_date|race_number|program_number|              jockey|position_at_finish|trakus_index|        latitude|        longitude|distance_id|course_type|track_condition|run_up_distance|race_type|  purse|post_time|weight_carried|odds|horse_name|incident_date|incident_type|\n",
            "+------------------+--------+----------+-----------+--------------+--------------------+------------------+------------+----------------+-----------------+-----------+-----------+---------------+---------------+---------+-------+---------+--------------+----+----------+-------------+-------------+\n",
            "|AQU_2019-01-01_9_6|     AQU|2019-01-01|          9|             6|Andre Shivnarine ...|                 8|          72|40.6729017197787|-73.8276065972899|        600|          D|            GD |             48|      CLM|25000.0|      420|           120|2090|      null|         null|         null|\n",
            "|AQU_2019-01-01_9_6|     AQU|2019-01-01|          9|             6|Andre Shivnarine ...|                 8|          73|40.6729459870339|-73.8275872666695|        600|          D|            GD |             48|      CLM|25000.0|      420|           120|2090|      null|         null|         null|\n",
            "|AQU_2019-01-01_9_6|     AQU|2019-01-01|          9|             6|Andre Shivnarine ...|                 8|          74|40.6729903067774|-73.8275680245873|        600|          D|            GD |             48|      CLM|25000.0|      420|           120|2090|      null|         null|         null|\n",
            "|AQU_2019-01-01_9_6|     AQU|2019-01-01|          9|             6|Andre Shivnarine ...|                 8|          63|40.6725097789893|-73.8277810216018|        600|          D|            GD |             48|      CLM|25000.0|      420|           120|2090|      null|         null|         null|\n",
            "|AQU_2019-01-01_9_6|     AQU|2019-01-01|          9|             6|Andre Shivnarine ...|                 8|          64| 40.672552699664|-73.8277615508644|        600|          D|            GD |             48|      CLM|25000.0|      420|           120|2090|      null|         null|         null|\n",
            "|AQU_2019-01-01_9_6|     AQU|2019-01-01|          9|             6|Andre Shivnarine ...|                 8|          65|40.6725958007316|-73.8277421469391|        600|          D|            GD |             48|      CLM|25000.0|      420|           120|2090|      null|         null|         null|\n",
            "|AQU_2019-01-01_9_6|     AQU|2019-01-01|          9|             6|Andre Shivnarine ...|                 8|          66|40.6726396392092|-73.8277225010837|        600|          D|            GD |             48|      CLM|25000.0|      420|           120|2090|      null|         null|         null|\n",
            "|AQU_2019-01-01_9_6|     AQU|2019-01-01|          9|             6|Andre Shivnarine ...|                 8|          67|40.6726830895003|-73.8277030102899|        600|          D|            GD |             48|      CLM|25000.0|      420|           120|2090|      null|         null|         null|\n",
            "|AQU_2019-01-01_9_6|     AQU|2019-01-01|          9|             6|Andre Shivnarine ...|                 8|          68|40.6727256755602| -73.827684071193|        600|          D|            GD |             48|      CLM|25000.0|      420|           120|2090|      null|         null|         null|\n",
            "|AQU_2019-01-01_9_6|     AQU|2019-01-01|          9|             6|Andre Shivnarine ...|                 8|          57|40.6722427299986|-73.8279027810475|        600|          D|            GD |             48|      CLM|25000.0|      420|           120|2090|      null|         null|         null|\n",
            "+------------------+--------+----------+-----------+--------------+--------------------+------------------+------------+----------------+-----------------+-----------+-----------+---------------+---------------+---------+-------+---------+--------------+----+----------+-------------+-------------+\n",
            "only showing top 10 rows\n",
            "\n"
          ]
        }
      ],
      "execution_count": 46
    },
    {
      "cell_type": "code",
      "source": "df_prepped.count()",
      "metadata": {
        "id": "fAgWxzy068Lj",
        "colab": {
          "base_uri": "https://localhost:8080/"
        },
        "executionInfo": {
          "status": "ok",
          "timestamp": 1670220934219,
          "user_tz": 360,
          "elapsed": 22348,
          "user": {
            "displayName": "Yamil lovo",
            "userId": "04901077126197165237"
          }
        },
        "outputId": "cacdbbc1-c6a2-4d3e-92c0-f26a30dcc3f6"
      },
      "outputs": [
        {
          "output_type": "execute_result",
          "data": {
            "text/plain": [
              "5228430"
            ]
          },
          "metadata": {},
          "execution_count": 47
        }
      ],
      "execution_count": 47
    },
    {
      "cell_type": "markdown",
      "source": "**Number of Days of rest after an Injury**",
      "metadata": {
        "id": "-Y9Ia46lk2F-"
      }
    },
    {
      "cell_type": "code",
      "source": "#Create new column regarding the number of days a horse rest after an injury\n# \"race date\" vs \"incident_date\"\nfrom pyspark.sql.functions import *\n# Switch \"incident_date\" column to Date format\ndf_prepped =  df_prepped.withColumn( \"incident_date_t\", to_date(col(\"incident_date\"),\"MM/dd/yyyy\") ) \n#Calculate the # of days a horse wait to race after having an injury\ndf_prepped = df_prepped.withColumn(\"days_from_injury\", datediff(col(\"race_date\"), col (\"incident_date_t\")) )\ndf_prepped.show()",
      "metadata": {
        "id": "SzUkZFHzfoGp",
        "colab": {
          "base_uri": "https://localhost:8080/"
        },
        "executionInfo": {
          "status": "ok",
          "timestamp": 1670220960230,
          "user_tz": 360,
          "elapsed": 26022,
          "user": {
            "displayName": "Yamil lovo",
            "userId": "04901077126197165237"
          }
        },
        "outputId": "e5ddf7b0-9659-4a14-b6f1-1bbce53e3eb6"
      },
      "outputs": [
        {
          "output_type": "stream",
          "name": "stdout",
          "text": [
            "+------------------+--------+----------+-----------+--------------+-----------+------------------+------------+----------------+-----------------+-----------+-----------+---------------+---------------+---------+-------+---------+--------------+----+----------+-------------+-------------+---------------+----------------+\n",
            "|          ID_horse|track_id| race_date|race_number|program_number|     jockey|position_at_finish|trakus_index|        latitude|        longitude|distance_id|course_type|track_condition|run_up_distance|race_type|  purse|post_time|weight_carried|odds|horse_name|incident_date|incident_type|incident_date_t|days_from_injury|\n",
            "+------------------+--------+----------+-----------+--------------+-----------+------------------+------------+----------------+-----------------+-----------+-----------+---------------+---------------+---------+-------+---------+--------------+----+----------+-------------+-------------+---------------+----------------+\n",
            "|AQU_2019-04-14_7_9|     AQU|2019-04-14|          7|             9|Dylan Davis|                 1|           1|40.6667817706632|-73.8303149234297|        800|          D|            FT |             54|      CLM|38000.0|      442|           124| 700|      null|         null|         null|           null|            null|\n",
            "|AQU_2019-04-14_7_9|     AQU|2019-04-14|          7|             9|Dylan Davis|                 1|           2| 40.666785420157|-73.8303132548516|        800|          D|            FT |             54|      CLM|38000.0|      442|           124| 700|      null|         null|         null|           null|            null|\n",
            "|AQU_2019-04-14_7_9|     AQU|2019-04-14|          7|             9|Dylan Davis|                 1|           3|40.6667906047754|-73.8303105099988|        800|          D|            FT |             54|      CLM|38000.0|      442|           124| 700|      null|         null|         null|           null|            null|\n",
            "|AQU_2019-04-14_7_9|     AQU|2019-04-14|          7|             9|Dylan Davis|                 1|           4|40.6667961105319| -73.830307289902|        800|          D|            FT |             54|      CLM|38000.0|      442|           124| 700|      null|         null|         null|           null|            null|\n",
            "|AQU_2019-04-14_7_9|     AQU|2019-04-14|          7|             9|Dylan Davis|                 1|           5|40.6668031263815|-73.8303028294956|        800|          D|            FT |             54|      CLM|38000.0|      442|           124| 700|      null|         null|         null|           null|            null|\n",
            "|AQU_2019-04-14_7_9|     AQU|2019-04-14|          7|             9|Dylan Davis|                 1|           6|40.6668137226328|-73.8302962307134|        800|          D|            FT |             54|      CLM|38000.0|      442|           124| 700|      null|         null|         null|           null|            null|\n",
            "|AQU_2019-04-14_7_9|     AQU|2019-04-14|          7|             9|Dylan Davis|                 1|         409|40.6700333776492| -73.832463987616|        800|          D|            FT |             54|      CLM|38000.0|      442|           124| 700|      null|         null|         null|           null|            null|\n",
            "|AQU_2019-04-14_7_9|     AQU|2019-04-14|          7|             9|Dylan Davis|                 1|         403|40.6701790944753|-73.8324771169908|        800|          D|            FT |             54|      CLM|38000.0|      442|           124| 700|      null|         null|         null|           null|            null|\n",
            "|AQU_2019-04-14_7_9|     AQU|2019-04-14|          7|             9|Dylan Davis|                 1|         404|40.6701546976865|-73.8324768077897|        800|          D|            FT |             54|      CLM|38000.0|      442|           124| 700|      null|         null|         null|           null|            null|\n",
            "|AQU_2019-04-14_7_9|     AQU|2019-04-14|          7|             9|Dylan Davis|                 1|         405|40.6701295977771|-73.8324761222551|        800|          D|            FT |             54|      CLM|38000.0|      442|           124| 700|      null|         null|         null|           null|            null|\n",
            "|AQU_2019-04-14_7_9|     AQU|2019-04-14|          7|             9|Dylan Davis|                 1|         406|40.6701057805922|-73.8324740258889|        800|          D|            FT |             54|      CLM|38000.0|      442|           124| 700|      null|         null|         null|           null|            null|\n",
            "|AQU_2019-04-14_7_9|     AQU|2019-04-14|          7|             9|Dylan Davis|                 1|         407|40.6700815515415|-73.8324713929335|        800|          D|            FT |             54|      CLM|38000.0|      442|           124| 700|      null|         null|         null|           null|            null|\n",
            "|AQU_2019-04-14_7_9|     AQU|2019-04-14|          7|             9|Dylan Davis|                 1|         408|40.6700576020738|-73.8324679526955|        800|          D|            FT |             54|      CLM|38000.0|      442|           124| 700|      null|         null|         null|           null|            null|\n",
            "|AQU_2019-04-14_7_9|     AQU|2019-04-14|          7|             9|Dylan Davis|                 1|         397|40.6703296715138| -73.832463499088|        800|          D|            FT |             54|      CLM|38000.0|      442|           124| 700|      null|         null|         null|           null|            null|\n",
            "|AQU_2019-04-14_7_9|     AQU|2019-04-14|          7|             9|Dylan Davis|                 1|         398|40.6703035511922|-73.8324677914921|        800|          D|            FT |             54|      CLM|38000.0|      442|           124| 700|      null|         null|         null|           null|            null|\n",
            "|AQU_2019-04-14_7_9|     AQU|2019-04-14|          7|             9|Dylan Davis|                 1|         399|40.6702780257165|-73.8324712055826|        800|          D|            FT |             54|      CLM|38000.0|      442|           124| 700|      null|         null|         null|           null|            null|\n",
            "|AQU_2019-04-14_7_9|     AQU|2019-04-14|          7|             9|Dylan Davis|                 1|         400|40.6702532704399|-73.8324736474369|        800|          D|            FT |             54|      CLM|38000.0|      442|           124| 700|      null|         null|         null|           null|            null|\n",
            "|AQU_2019-04-14_7_9|     AQU|2019-04-14|          7|             9|Dylan Davis|                 1|         401|40.6702278925013|-73.8324757634456|        800|          D|            FT |             54|      CLM|38000.0|      442|           124| 700|      null|         null|         null|           null|            null|\n",
            "|AQU_2019-04-14_7_9|     AQU|2019-04-14|          7|             9|Dylan Davis|                 1|         402|40.6702032617737|-73.8324768927941|        800|          D|            FT |             54|      CLM|38000.0|      442|           124| 700|      null|         null|         null|           null|            null|\n",
            "|AQU_2019-04-14_7_9|     AQU|2019-04-14|          7|             9|Dylan Davis|                 1|         391|40.6704913307929|-73.8324225046986|        800|          D|            FT |             54|      CLM|38000.0|      442|           124| 700|      null|         null|         null|           null|            null|\n",
            "+------------------+--------+----------+-----------+--------------+-----------+------------------+------------+----------------+-----------------+-----------+-----------+---------------+---------------+---------+-------+---------+--------------+----+----------+-------------+-------------+---------------+----------------+\n",
            "only showing top 20 rows\n",
            "\n"
          ]
        }
      ],
      "execution_count": 48
    },
    {
      "cell_type": "code",
      "source": "#Display unique values regarding variable (\"days_from_injury\")\ndf_prepped.select(\"days_from_injury\").distinct().show()\n# If number of days from injury is negative that means that the  injury happened after the race\n# We might expect that negative values and large # of days of rest be associated with good performance\n# while 0 and small values for the variable be associated with poor performance",
      "metadata": {
        "id": "NSYLSnRbU99A",
        "colab": {
          "base_uri": "https://localhost:8080/"
        },
        "executionInfo": {
          "status": "ok",
          "timestamp": 1670220983666,
          "user_tz": 360,
          "elapsed": 23450,
          "user": {
            "displayName": "Yamil lovo",
            "userId": "04901077126197165237"
          }
        },
        "outputId": "6c4bf32f-fc25-48b1-847d-750d5801420f"
      },
      "outputs": [
        {
          "output_type": "stream",
          "name": "stdout",
          "text": [
            "+----------------+\n",
            "|days_from_injury|\n",
            "+----------------+\n",
            "|            -145|\n",
            "|            null|\n",
            "|            -126|\n",
            "|             -77|\n",
            "|            -104|\n",
            "|            -266|\n",
            "|             -22|\n",
            "|            -118|\n",
            "|             -29|\n",
            "|               8|\n",
            "|             -91|\n",
            "|            -299|\n",
            "|             -34|\n",
            "|             -56|\n",
            "|            -112|\n",
            "|            -310|\n",
            "|             -28|\n",
            "|               0|\n",
            "+----------------+\n",
            "\n"
          ]
        }
      ],
      "execution_count": 49
    },
    {
      "cell_type": "markdown",
      "source": "**Selection of Potential Predictors**",
      "metadata": {
        "id": "PJlLQk3et5Uy"
      }
    },
    {
      "cell_type": "code",
      "source": "# Initially we will include most variables. we will only exclude variables which info is better represented by other variables\n# Later on, we will perform feature selection to find opportunities of reducing the # of predictors\nnon_predictors = [\"race_date\", \"race_number\", \"program_number\",\"trakus_index\", \"latitude\", \"longitude\", \"post_time\" , \"horse_name\", \"incident_date\",\"incident_date_t\"]\npredictors = [item for item in df_prepped.columns if item not in non_predictors]",
      "metadata": {
        "id": "5Z-3DL5xIuDb",
        "executionInfo": {
          "status": "ok",
          "timestamp": 1670220983667,
          "user_tz": 360,
          "elapsed": 24,
          "user": {
            "displayName": "Yamil lovo",
            "userId": "04901077126197165237"
          }
        }
      },
      "outputs": [],
      "execution_count": 50
    },
    {
      "cell_type": "code",
      "source": "display(predictors)",
      "metadata": {
        "id": "A536QIVaIuPT",
        "colab": {
          "base_uri": "https://localhost:8080/",
          "height": 260
        },
        "executionInfo": {
          "status": "ok",
          "timestamp": 1670220983668,
          "user_tz": 360,
          "elapsed": 24,
          "user": {
            "displayName": "Yamil lovo",
            "userId": "04901077126197165237"
          }
        },
        "outputId": "e11f0332-e497-49f0-e39b-e2c9ca302430"
      },
      "outputs": [
        {
          "output_type": "display_data",
          "data": {
            "text/plain": [
              "['ID_horse',\n",
              " 'track_id',\n",
              " 'jockey',\n",
              " 'position_at_finish',\n",
              " 'distance_id',\n",
              " 'course_type',\n",
              " 'track_condition',\n",
              " 'run_up_distance',\n",
              " 'race_type',\n",
              " 'purse',\n",
              " 'weight_carried',\n",
              " 'odds',\n",
              " 'incident_type',\n",
              " 'days_from_injury']"
            ]
          },
          "metadata": {}
        }
      ],
      "execution_count": 51
    },
    {
      "cell_type": "code",
      "source": "df_predictors = df_prepped.select(predictors)\n#remove duplicates\ndf_predictors = df_predictors.dropDuplicates()",
      "metadata": {
        "id": "jJrPBVlnvkWe",
        "executionInfo": {
          "status": "ok",
          "timestamp": 1670220983670,
          "user_tz": 360,
          "elapsed": 24,
          "user": {
            "displayName": "Yamil lovo",
            "userId": "04901077126197165237"
          }
        }
      },
      "outputs": [],
      "execution_count": 52
    },
    {
      "cell_type": "code",
      "source": "df_predictors.show(10)",
      "metadata": {
        "id": "1grXcHg3-eNa",
        "colab": {
          "base_uri": "https://localhost:8080/"
        },
        "executionInfo": {
          "status": "ok",
          "timestamp": 1670221014196,
          "user_tz": 360,
          "elapsed": 30549,
          "user": {
            "displayName": "Yamil lovo",
            "userId": "04901077126197165237"
          }
        },
        "outputId": "a1b4a7c4-7242-40e8-935a-af4e58a4cb64"
      },
      "outputs": [
        {
          "output_type": "stream",
          "name": "stdout",
          "text": [
            "+-------------------+--------+--------------------+------------------+-----------+-----------+---------------+---------------+---------+--------+--------------+----+-------------+----------------+\n",
            "|           ID_horse|track_id|              jockey|position_at_finish|distance_id|course_type|track_condition|run_up_distance|race_type|   purse|weight_carried|odds|incident_type|days_from_injury|\n",
            "+-------------------+--------+--------------------+------------------+-----------+-----------+---------------+---------------+---------+--------+--------------+----+-------------+----------------+\n",
            "| AQU_2019-11-10_8_7|     AQU|        Joel Rosario|                 6|        700|          D|            FT |             48|      STK|150000.0|           120| 900|         null|            null|\n",
            "| BEL_2019-06-07_6_1|     BEL|        Joel Rosario|                 7|        800|          T|            FM |             74|      AOC| 97000.0|           118|1550|         null|            null|\n",
            "| BEL_2019-06-02_1_1|     BEL|        Tzeonn Chang|                 2|        600|          D|            FT |             48|      MCL| 30000.0|           124|2525|         null|            null|\n",
            "| AQU_2019-02-02_7_6|     AQU|         Dylan Davis|                 5|        600|          D|            FT |             42|      CLM| 20000.0|           121|2130|         null|            null|\n",
            "| AQU_2019-03-15_8_1|     AQU|Andre Shivnarine ...|                 2|        800|          D|            FT |             54|      AOC| 67000.0|           121| 740|         null|            null|\n",
            "| AQU_2019-11-07_1_4|     AQU|     Junior Alvarado|                 1|        600|          D|            FT |             38|      CLM| 28000.0|           124| 440|         null|            null|\n",
            "|SAR_2019-07-26_8_10|     SAR|      Chris Landeros|                 7|        550|          T|            YL |             63|      AOC| 83000.0|           122|4725|         null|            null|\n",
            "| SAR_2019-08-23_9_5|     SAR|           Luis Saez|                 7|        850|          I|            GD |             90|      STK|150000.0|           118|1160|         null|            null|\n",
            "| BEL_2019-06-19_4_5|     BEL|       Luis R. Reyes|                 5|        800|          D|            GD |             52|      MCL| 33000.0|           125|4900|         null|            null|\n",
            "| AQU_2019-02-16_8_7|     AQU|         Dylan Davis|                 5|        600|          D|            FT |             48|      STK|100000.0|           122| 490|         null|            null|\n",
            "+-------------------+--------+--------------------+------------------+-----------+-----------+---------------+---------------+---------+--------+--------------+----+-------------+----------------+\n",
            "only showing top 10 rows\n",
            "\n"
          ]
        }
      ],
      "execution_count": 53
    },
    {
      "cell_type": "markdown",
      "source": "**Replace Null values with Median (var: \"Days from Injury\")**",
      "metadata": {
        "id": "7uXsTvm5EiK6"
      }
    },
    {
      "cell_type": "code",
      "source": "#Convert days from injury column to pandas for calculating median\nimport pyspark.pandas as ps\nvariable = df_predictors.select(\"days_from_injury\")\npandasDF = variable.to_pandas_on_spark()",
      "metadata": {
        "id": "hCzdKNcW29wj",
        "colab": {
          "base_uri": "https://localhost:8080/"
        },
        "executionInfo": {
          "status": "ok",
          "timestamp": 1670221014631,
          "user_tz": 360,
          "elapsed": 462,
          "user": {
            "displayName": "Yamil lovo",
            "userId": "04901077126197165237"
          }
        },
        "outputId": "105413d1-d35a-40a2-daf0-9ed1b1d83ac4"
      },
      "outputs": [
        {
          "output_type": "stream",
          "name": "stderr",
          "text": [
            "WARNING:root:'PYARROW_IGNORE_TIMEZONE' environment variable was not set. It is required to set this environment variable to '1' in both driver and executor sides if you use pyarrow>=2.0.0. pandas-on-Spark will set it for you but it does not work if there is a Spark context already launched.\n",
            "/usr/local/lib/python3.8/dist-packages/pyspark/sql/dataframe.py:3313: FutureWarning: DataFrame.to_pandas_on_spark is deprecated. Use DataFrame.pandas_api instead.\n",
            "  warnings.warn(\n"
          ]
        }
      ],
      "execution_count": 54
    },
    {
      "cell_type": "code",
      "source": "# Median Calculation\nimport numpy as np\n\nmedian = pandasDF.median().to_numpy()\nmedian = np.float64(median)\ndisplay (median)",
      "metadata": {
        "id": "HTqAVwL-49mY",
        "colab": {
          "base_uri": "https://localhost:8080/",
          "height": 89
        },
        "executionInfo": {
          "status": "ok",
          "timestamp": 1670221048395,
          "user_tz": 360,
          "elapsed": 33770,
          "user": {
            "displayName": "Yamil lovo",
            "userId": "04901077126197165237"
          }
        },
        "outputId": "c9e14547-d77c-42f2-98ab-c01b7889cc96"
      },
      "outputs": [
        {
          "output_type": "stream",
          "name": "stderr",
          "text": [
            "/usr/local/lib/python3.8/dist-packages/pyspark/pandas/utils.py:975: PandasAPIOnSparkAdviceWarning: `to_numpy` loads all data into the driver's memory. It should only be used if the resulting NumPy ndarray is expected to be small.\n",
            "  warnings.warn(message, PandasAPIOnSparkAdviceWarning)\n"
          ]
        },
        {
          "output_type": "display_data",
          "data": {
            "text/plain": [
              "0.0"
            ]
          },
          "metadata": {}
        }
      ],
      "execution_count": 55
    },
    {
      "cell_type": "code",
      "source": "#Replace null values with median\ndf_predictors = df_predictors.na.fill({\"days_from_injury\" : median})",
      "metadata": {
        "id": "NLpSQpYK-2Pr",
        "executionInfo": {
          "status": "ok",
          "timestamp": 1670221048396,
          "user_tz": 360,
          "elapsed": 5,
          "user": {
            "displayName": "Yamil lovo",
            "userId": "04901077126197165237"
          }
        }
      },
      "outputs": [],
      "execution_count": 56
    },
    {
      "cell_type": "code",
      "source": "df_predictors.show()",
      "metadata": {
        "id": "RKuXiobrPxy0",
        "colab": {
          "base_uri": "https://localhost:8080/"
        },
        "executionInfo": {
          "status": "ok",
          "timestamp": 1670221078240,
          "user_tz": 360,
          "elapsed": 29848,
          "user": {
            "displayName": "Yamil lovo",
            "userId": "04901077126197165237"
          }
        },
        "outputId": "ae1aedff-8be8-4cd9-b398-62d231ad776c"
      },
      "outputs": [
        {
          "output_type": "stream",
          "name": "stdout",
          "text": [
            "+-------------------+--------+--------------------+------------------+-----------+-----------+---------------+---------------+---------+--------+--------------+----+-------------+----------------+\n",
            "|           ID_horse|track_id|              jockey|position_at_finish|distance_id|course_type|track_condition|run_up_distance|race_type|   purse|weight_carried|odds|incident_type|days_from_injury|\n",
            "+-------------------+--------+--------------------+------------------+-----------+-----------+---------------+---------------+---------+--------+--------------+----+-------------+----------------+\n",
            "| AQU_2019-11-10_8_7|     AQU|        Joel Rosario|                 6|        700|          D|            FT |             48|      STK|150000.0|           120| 900|         null|               0|\n",
            "| BEL_2019-06-07_6_1|     BEL|        Joel Rosario|                 7|        800|          T|            FM |             74|      AOC| 97000.0|           118|1550|         null|               0|\n",
            "| BEL_2019-06-02_1_1|     BEL|        Tzeonn Chang|                 2|        600|          D|            FT |             48|      MCL| 30000.0|           124|2525|         null|               0|\n",
            "| AQU_2019-02-02_7_6|     AQU|         Dylan Davis|                 5|        600|          D|            FT |             42|      CLM| 20000.0|           121|2130|         null|               0|\n",
            "| AQU_2019-03-15_8_1|     AQU|Andre Shivnarine ...|                 2|        800|          D|            FT |             54|      AOC| 67000.0|           121| 740|         null|               0|\n",
            "| AQU_2019-11-07_1_4|     AQU|     Junior Alvarado|                 1|        600|          D|            FT |             38|      CLM| 28000.0|           124| 440|         null|               0|\n",
            "|SAR_2019-07-26_8_10|     SAR|      Chris Landeros|                 7|        550|          T|            YL |             63|      AOC| 83000.0|           122|4725|         null|               0|\n",
            "| SAR_2019-08-23_9_5|     SAR|           Luis Saez|                 7|        850|          I|            GD |             90|      STK|150000.0|           118|1160|         null|               0|\n",
            "| BEL_2019-06-19_4_5|     BEL|       Luis R. Reyes|                 5|        800|          D|            GD |             52|      MCL| 33000.0|           125|4900|         null|               0|\n",
            "| AQU_2019-02-16_8_7|     AQU|         Dylan Davis|                 5|        600|          D|            FT |             48|      STK|100000.0|           122| 490|         null|               0|\n",
            "| BEL_2019-06-13_1_1|     BEL|      Irad Ortiz Jr.|                 1|        650|          D|            SY |             54|      CLM| 28000.0|           125|  35|         null|               0|\n",
            "| BEL_2019-10-18_7_6|     BEL|        Jose Lezcano|                 2|        650|          D|            FT |             45|      AOC| 70000.0|           123| 200|         null|               0|\n",
            "|AQU_2019-04-06_11_5|     AQU|        Jose Lezcano|                11|        800|          D|            FT |             54|      ALW| 75000.0|           126| 800|         null|               0|\n",
            "| SAR_2019-08-25_5_4|     SAR|  Kendrick Carmouche|                 2|        550|          T|            FM |             56|      AOC| 95000.0|           124|1600|         null|               0|\n",
            "| AQU_2019-12-21_2_5|     AQU|Luis A. Rodriguez...|                 3|        800|          D|            FT |             54|      CLM| 50000.0|           125|1270|         null|               0|\n",
            "| AQU_2019-01-25_7_6|     AQU|        Jose Lezcano|                 4|        800|          D|            GD |             52|      AOC| 67000.0|           123|1020|         null|               0|\n",
            "| AQU_2019-04-05_6_3|     AQU|        Rajiv Maragh|                 8|        800|          O|            FM |             64|      CLM| 44000.0|           126|4600|         null|               0|\n",
            "| AQU_2019-01-10_3_1|     AQU|       Kevin Carmona|                 1|        800|          D|            FT |             54|      MCL| 30000.0|           116| 240|         null|               0|\n",
            "| AQU_2019-11-30_2_4|     AQU|      Keivan Serrano|                 5|        600|          D|            FT |             45|      CLM| 52000.0|           120|1270|         null|               0|\n",
            "| BEL_2019-09-25_3_7|     BEL|   John R. Velazquez|                 5|        650|          D|            FT |             36|      CLM| 39000.0|           121| 450|         null|               0|\n",
            "+-------------------+--------+--------------------+------------------+-----------+-----------+---------------+---------------+---------+--------+--------------+----+-------------+----------------+\n",
            "only showing top 20 rows\n",
            "\n"
          ]
        }
      ],
      "execution_count": 57
    },
    {
      "cell_type": "code",
      "source": "df_predictors.write.option(\"header\",True).mode(\"overwrite\")\\\n .csv(\"/content/drive/My Drive/Big_Data/data.csv\")",
      "metadata": {
        "id": "jH3jXKZ-56Kc",
        "executionInfo": {
          "status": "ok",
          "timestamp": 1670222144468,
          "user_tz": 360,
          "elapsed": 36781,
          "user": {
            "displayName": "Yamil lovo",
            "userId": "04901077126197165237"
          }
        }
      },
      "outputs": [],
      "execution_count": 66
    },
    {
      "cell_type": "markdown",
      "source": "**Preparing string Variables for Feature Selection**",
      "metadata": {
        "id": "_oasOCjUpraZ"
      }
    },
    {
      "cell_type": "code",
      "source": "# Handling Categorical Variables\nfrom pyspark.ml.feature import StringIndexer, OneHotEncoder\nfrom pyspark.sql import SparkSession\nfrom pyspark.ml import Pipeline\n\n# conversion of string to 1, 2 3 ... categorical format\nindexers = [StringIndexer(inputCol=column, outputCol=column+\"_c\").setHandleInvalid(\"keep\").fit(df_predictors) for column in [\"track_id\",\"jockey\",\"course_type\",\"track_condition\", \"race_type\", \"incident_type\"]]\n\npipeline = Pipeline(stages=indexers)\ndf_predictors = pipeline.fit(df_predictors).transform(df_predictors)",
      "metadata": {
        "id": "baa8EVt351wf"
      },
      "outputs": [],
      "execution_count": null
    },
    {
      "cell_type": "code",
      "source": "# Drop variables that has been replaced by categorical counterpart\ndf_predictors = df_predictors.drop(\"track_id\",\"jockey\",\"course_type\",\"track_condition\", \"race_type\", \"incident_type\")",
      "metadata": {
        "id": "Ced6_uOnotGo"
      },
      "outputs": [],
      "execution_count": null
    },
    {
      "cell_type": "code",
      "source": "# Create feature vector for feature selection\n# Note that ChiSquare Selector does not work on One Hot Encoded Variables\nfrom pyspark.ml.feature import VectorAssembler\n# Features start from index 2 and on as index 0 and 1 represent ID and target variable respectively\nassembler = (VectorAssembler()\n             .setInputCols(df_predictors.columns[2:])\n             .setOutputCol(\"features\")\n  )\n\nfeature_vector = assembler.transform(df_predictors)",
      "metadata": {
        "id": "qkqVvOBn3xI_"
      },
      "outputs": [],
      "execution_count": null
    },
    {
      "cell_type": "code",
      "source": "feature_vector.show()",
      "metadata": {
        "id": "sUSFSzl9KJis",
        "colab": {
          "base_uri": "https://localhost:8080/"
        },
        "executionInfo": {
          "status": "ok",
          "timestamp": 1670147746015,
          "user_tz": 360,
          "elapsed": 30829,
          "user": {
            "displayName": "Yamil lovo",
            "userId": "04901077126197165237"
          }
        },
        "outputId": "16a9d886-b51e-48ed-e6aa-3bc4ee8c68ed"
      },
      "outputs": [
        {
          "output_type": "stream",
          "name": "stdout",
          "text": [
            "+-------------------+------------------+-----------+---------------+--------+--------------+----+----------------+----------+--------+-------------+-----------------+-----------+---------------+--------------------+\n",
            "|           ID_horse|position_at_finish|distance_id|run_up_distance|   purse|weight_carried|odds|days_from_injury|track_id_c|jockey_c|course_type_c|track_condition_c|race_type_c|incident_type_c|            features|\n",
            "+-------------------+------------------+-----------+---------------+--------+--------------+----+----------------+----------+--------+-------------+-----------------+-----------+---------------+--------------------+\n",
            "| AQU_2019-11-10_8_7|                 6|        700|             48|150000.0|           120| 900|               0|       0.0|     9.0|          0.0|              0.0|        3.0|            4.0|[700.0,48.0,15000...|\n",
            "| BEL_2019-06-07_6_1|                 7|        800|             74| 97000.0|           118|1550|               0|       1.0|     9.0|          1.0|              1.0|        4.0|            4.0|[800.0,74.0,97000...|\n",
            "| BEL_2019-06-02_1_1|                 2|        600|             48| 30000.0|           124|2525|               0|       1.0|    42.0|          0.0|              0.0|        2.0|            4.0|[600.0,48.0,30000...|\n",
            "| AQU_2019-02-02_7_6|                 5|        600|             42| 20000.0|           121|2130|               0|       0.0|     1.0|          0.0|              0.0|        0.0|            4.0|[600.0,42.0,20000...|\n",
            "| AQU_2019-03-15_8_1|                 2|        800|             54| 67000.0|           121| 740|               0|       0.0|    28.0|          0.0|              0.0|        4.0|            4.0|[800.0,54.0,67000...|\n",
            "| AQU_2019-11-07_1_4|                 1|        600|             38| 28000.0|           124| 440|               0|       0.0|     3.0|          0.0|              0.0|        0.0|            4.0|[600.0,38.0,28000...|\n",
            "|SAR_2019-07-26_8_10|                 7|        550|             63| 83000.0|           122|4725|               0|       2.0|    30.0|          1.0|              5.0|        4.0|            4.0|[550.0,63.0,83000...|\n",
            "| SAR_2019-08-23_9_5|                 7|        850|             90|150000.0|           118|1160|               0|       2.0|     8.0|          2.0|              2.0|        3.0|            4.0|[850.0,90.0,15000...|\n",
            "| BEL_2019-06-19_4_5|                 5|        800|             52| 33000.0|           125|4900|               0|       1.0|    15.0|          0.0|              2.0|        2.0|            4.0|[800.0,52.0,33000...|\n",
            "| AQU_2019-02-16_8_7|                 5|        600|             48|100000.0|           122| 490|               0|       0.0|     1.0|          0.0|              0.0|        3.0|            4.0|[600.0,48.0,10000...|\n",
            "| BEL_2019-06-13_1_1|                 1|        650|             54| 28000.0|           125|  35|               0|       1.0|     4.0|          0.0|              3.0|        0.0|            4.0|[650.0,54.0,28000...|\n",
            "| BEL_2019-10-18_7_6|                 2|        650|             45| 70000.0|           123| 200|               0|       1.0|     2.0|          0.0|              0.0|        4.0|            4.0|[650.0,45.0,70000...|\n",
            "|AQU_2019-04-06_11_5|                11|        800|             54| 75000.0|           126| 800|               0|       0.0|     2.0|          0.0|              0.0|        5.0|            4.0|[800.0,54.0,75000...|\n",
            "| SAR_2019-08-25_5_4|                 2|        550|             56| 95000.0|           124|1600|               0|       2.0|     6.0|          1.0|              1.0|        4.0|            4.0|[550.0,56.0,95000...|\n",
            "| AQU_2019-12-21_2_5|                 3|        800|             54| 50000.0|           125|1270|               0|       0.0|    27.0|          0.0|              0.0|        0.0|            4.0|[800.0,54.0,50000...|\n",
            "| AQU_2019-01-25_7_6|                 4|        800|             52| 67000.0|           123|1020|               0|       0.0|     2.0|          0.0|              2.0|        4.0|            4.0|[800.0,52.0,67000...|\n",
            "| AQU_2019-04-05_6_3|                 8|        800|             64| 44000.0|           126|4600|               0|       0.0|    12.0|          3.0|              1.0|        0.0|            4.0|[800.0,64.0,44000...|\n",
            "| AQU_2019-01-10_3_1|                 1|        800|             54| 30000.0|           116| 240|               0|       0.0|    53.0|          0.0|              0.0|        2.0|            4.0|[800.0,54.0,30000...|\n",
            "| AQU_2019-11-30_2_4|                 5|        600|             45| 52000.0|           120|1270|               0|       0.0|    34.0|          0.0|              0.0|        0.0|            4.0|[600.0,45.0,52000...|\n",
            "| BEL_2019-09-25_3_7|                 5|        650|             36| 39000.0|           121| 450|               0|       1.0|    14.0|          0.0|              0.0|        0.0|            4.0|[650.0,36.0,39000...|\n",
            "+-------------------+------------------+-----------+---------------+--------+--------------+----+----------------+----------+--------+-------------+-----------------+-----------+---------------+--------------------+\n",
            "only showing top 20 rows\n",
            "\n"
          ]
        }
      ],
      "execution_count": null
    },
    {
      "cell_type": "markdown",
      "source": "**Feature Selection**",
      "metadata": {
        "id": "gsr8GaJJ7AVQ"
      }
    },
    {
      "cell_type": "code",
      "source": "from pyspark.ml.feature import ChiSqSelector\nfrom pyspark.ml.linalg import Vectors\n# Set fpr = 0.05. There is a 95% chance that a predictor provides value towards inferance of the target variable\nselector = ChiSqSelector(fpr = 0.05, featuresCol= \"features\", outputCol= \"selectedFeatures\", labelCol = \"position_at_finish\")\nmodel=selector.fit(feature_vector)\nresult = model.transform(feature_vector)",
      "metadata": {
        "id": "BZ5h79tw2gXg"
      },
      "outputs": [],
      "execution_count": null
    },
    {
      "cell_type": "code",
      "source": "#Feature index start at 2 as the first 2 indexes are for ID and Target Variable respectively\nindex_selected =  [x+2 for x in model.selectedFeatures]\ndisplay (index_selected)",
      "metadata": {
        "id": "ZRGMt7PP2gRt",
        "colab": {
          "base_uri": "https://localhost:8080/",
          "height": 34
        },
        "executionInfo": {
          "status": "ok",
          "timestamp": 1670149341918,
          "user_tz": 360,
          "elapsed": 26,
          "user": {
            "displayName": "Yamil lovo",
            "userId": "04901077126197165237"
          }
        },
        "outputId": "491d5ac1-8beb-407e-9bf8-27aea025488a"
      },
      "outputs": [
        {
          "output_type": "display_data",
          "data": {
            "text/plain": [
              "[2, 3, 4, 5, 6, 7, 8, 9, 10, 11, 12, 13]"
            ]
          },
          "metadata": {}
        }
      ],
      "execution_count": null
    },
    {
      "cell_type": "code",
      "source": "# Display features selected\nselected_vars= np.array (df_predictors.columns)[index_selected]\ndisplay(selected_vars)",
      "metadata": {
        "id": "YwCd3HjO2gOX",
        "colab": {
          "base_uri": "https://localhost:8080/",
          "height": 86
        },
        "executionInfo": {
          "status": "ok",
          "timestamp": 1670149341919,
          "user_tz": 360,
          "elapsed": 25,
          "user": {
            "displayName": "Yamil lovo",
            "userId": "04901077126197165237"
          }
        },
        "outputId": "3b59774e-3726-409f-a57e-f64c257aa374"
      },
      "outputs": [
        {
          "output_type": "display_data",
          "data": {
            "text/plain": [
              "array(['distance_id', 'run_up_distance', 'purse', 'weight_carried',\n",
              "       'odds', 'days_from_injury', 'track_id_c', 'jockey_c',\n",
              "       'course_type_c', 'track_condition_c', 'race_type_c',\n",
              "       'incident_type_c'], dtype='<U18')"
            ]
          },
          "metadata": {}
        }
      ],
      "execution_count": null
    },
    {
      "cell_type": "markdown",
      "source": "**Preparing Variables for Machine Learning Algorithms**\n",
      "metadata": {
        "id": "JSgFWmji1gbp"
      }
    },
    {
      "cell_type": "code",
      "source": "#onehotencoder \nonehotencoder_cat_vector = [OneHotEncoder(inputCol= column, outputCol= column+\"e\") for column in [\"track_id_c\", \"jockey_c\", \"course_type_c\",\"track_condition_c\", \"race_type_c\", \"incident_type_c\" ]]\npipeline_e = Pipeline(stages=onehotencoder_cat_vector)\ndf_predictors = pipeline_e.fit(df_predictors).transform(df_predictors)",
      "metadata": {
        "id": "c_l130vS2gDJ"
      },
      "outputs": [],
      "execution_count": null
    },
    {
      "cell_type": "code",
      "source": "# Drop Variables that were Encoded\ndf_predictors = df_predictors.drop(\"track_id_c\", \"jockey_c\", \"course_type_c\",\"track_condition_c\", \"race_type_c\", \"incident_type_c\")",
      "metadata": {
        "id": "4Pb2n9LS2f4P"
      },
      "outputs": [],
      "execution_count": null
    },
    {
      "cell_type": "code",
      "source": "# Create feature Matrix for ML Algorithns\n# Features are included according to ChiSquareSelector\nassembler = (VectorAssembler()\n             .setInputCols(selected_vars)\n             .setOutputCol(\"SelectedFeatures\")\n  )\n\nfeature_matrix = assembler.transform(df_predictors)",
      "metadata": {
        "id": "4wmRp5lN1624"
      },
      "outputs": [],
      "execution_count": null
    },
    {
      "cell_type": "code",
      "source": "# Split Dataset\ntrain, test = feature_matrix.randomSplit([0.7, 0.3])\n\n#  Going to cache the data to make sure things stay snappy!\ntrain.cache()\ntest.cache()",
      "metadata": {
        "id": "mwMsZW22vkAa",
        "colab": {
          "base_uri": "https://localhost:8080/"
        },
        "outputId": "ea441aa7-399d-46a5-a9b2-55d717c20c64"
      },
      "outputs": [
        {
          "output_type": "execute_result",
          "data": {
            "text/plain": [
              "DataFrame[ID_horse: string, position_at_finish: int, distance_id: int, run_up_distance: int, purse: double, weight_carried: int, odds: int, days_from_injury: int, track_id_ce: vector, jockey_ce: vector, course_type_ce: vector, track_condition_ce: vector, race_type_ce: vector, incident_type_ce: vector, SelectedFeatures: vector]"
            ]
          },
          "metadata": {},
          "execution_count": 146
        }
      ],
      "execution_count": null
    },
    {
      "cell_type": "code",
      "source": "train.show()",
      "metadata": {
        "id": "y2m7-waEvj0H",
        "colab": {
          "base_uri": "https://localhost:8080/"
        },
        "outputId": "6248e824-9bda-424c-e341-fe161b77a34c"
      },
      "outputs": [
        {
          "output_type": "stream",
          "name": "stdout",
          "text": [
            "+-------------------+------------------+-----------+---------------+--------+--------------+----+----------------+-------------+----------------+--------------+------------------+--------------+----------------+--------------------+\n",
            "|           ID_horse|position_at_finish|distance_id|run_up_distance|   purse|weight_carried|odds|days_from_injury|  track_id_ce|       jockey_ce|course_type_ce|track_condition_ce|  race_type_ce|incident_type_ce|    SelectedFeatures|\n",
            "+-------------------+------------------+-----------+---------------+--------+--------------+----+----------------+-------------+----------------+--------------+------------------+--------------+----------------+--------------------+\n",
            "| AQU_2019-01-25_7_6|                 4|        800|             52| 67000.0|           123|1020|               0|(3,[0],[1.0])| (178,[2],[1.0])| (5,[0],[1.0])|     (7,[2],[1.0])|(12,[4],[1.0])|       (4,[],[])|(215,[0,1,2,3,4,6...|\n",
            "| AQU_2019-02-02_7_6|                 5|        600|             42| 20000.0|           121|2130|               0|(3,[0],[1.0])| (178,[1],[1.0])| (5,[0],[1.0])|     (7,[0],[1.0])|(12,[0],[1.0])|       (4,[],[])|(215,[0,1,2,3,4,6...|\n",
            "| AQU_2019-02-02_9_2|                 4|        900|             98|250000.0|           122|3325|               0|(3,[0],[1.0])| (178,[1],[1.0])| (5,[0],[1.0])|     (7,[0],[1.0])|(12,[3],[1.0])|       (4,[],[])|(215,[0,1,2,3,4,6...|\n",
            "| AQU_2019-02-03_5_6|                 6|        600|             34| 64000.0|           118|1040|               0|(3,[0],[1.0])| (178,[5],[1.0])| (5,[0],[1.0])|     (7,[0],[1.0])|(12,[4],[1.0])|       (4,[],[])|(215,[0,1,2,3,4,6...|\n",
            "| AQU_2019-02-16_8_7|                 5|        600|             48|100000.0|           122| 490|               0|(3,[0],[1.0])| (178,[1],[1.0])| (5,[0],[1.0])|     (7,[0],[1.0])|(12,[3],[1.0])|       (4,[],[])|(215,[0,1,2,3,4,6...|\n",
            "| AQU_2019-03-09_5_5|                 8|        800|             54| 64000.0|           121| 930|               0|(3,[0],[1.0])| (178,[0],[1.0])| (5,[0],[1.0])|     (7,[0],[1.0])|(12,[5],[1.0])|       (4,[],[])|(215,[0,1,2,3,4,6...|\n",
            "| AQU_2019-04-20_9_8|                 2|        650|             38|200000.0|           123| 155|               0|(3,[0],[1.0])| (178,[4],[1.0])| (5,[0],[1.0])|     (7,[3],[1.0])|(12,[3],[1.0])|       (4,[],[])|(215,[0,1,2,3,4,6...|\n",
            "| AQU_2019-11-07_1_4|                 1|        600|             38| 28000.0|           124| 440|               0|(3,[0],[1.0])| (178,[3],[1.0])| (5,[0],[1.0])|     (7,[0],[1.0])|(12,[0],[1.0])|       (4,[],[])|(215,[0,1,2,3,4,6...|\n",
            "| AQU_2019-11-17_7_9|                 2|        850|            138| 70000.0|           119|1060|               0|(3,[0],[1.0])| (178,[2],[1.0])| (5,[1],[1.0])|     (7,[1],[1.0])|(12,[1],[1.0])|       (4,[],[])|(215,[0,1,2,3,4,6...|\n",
            "| AQU_2019-11-27_7_4|                 7|        600|             52| 75000.0|           120|1270|               0|(3,[0],[1.0])|(178,[39],[1.0])| (5,[3],[1.0])|     (7,[5],[1.0])|(12,[4],[1.0])|       (4,[],[])|(215,[0,1,2,3,4,6...|\n",
            "| AQU_2019-11-30_2_4|                 5|        600|             45| 52000.0|           120|1270|               0|(3,[0],[1.0])|(178,[34],[1.0])| (5,[0],[1.0])|     (7,[0],[1.0])|(12,[0],[1.0])|       (4,[],[])|(215,[0,1,2,3,4,6...|\n",
            "| AQU_2019-12-21_2_5|                 3|        800|             54| 50000.0|           125|1270|               0|(3,[0],[1.0])|(178,[27],[1.0])| (5,[0],[1.0])|     (7,[0],[1.0])|(12,[0],[1.0])|       (4,[],[])|(215,[0,1,2,3,4,6...|\n",
            "| AQU_2019-12-21_9_6|                 1|        600|             48| 41000.0|           121| 520|               0|(3,[0],[1.0])| (178,[5],[1.0])| (5,[0],[1.0])|     (7,[0],[1.0])|(12,[2],[1.0])|       (4,[],[])|(215,[0,1,2,3,4,6...|\n",
            "|BEL_2019-05-04_5_10|                 6|        600|             48| 80000.0|           118|1220|               0|(3,[1],[1.0])|(178,[15],[1.0])| (5,[0],[1.0])|     (7,[3],[1.0])|(12,[1],[1.0])|       (4,[],[])|(215,[0,1,2,3,4,7...|\n",
            "| BEL_2019-05-26_2_6|                 1|        800|            140| 41000.0|           124| 510|               0|(3,[1],[1.0])| (178,[8],[1.0])| (5,[1],[1.0])|     (7,[1],[1.0])|(12,[2],[1.0])|       (4,[],[])|(215,[0,1,2,3,4,7...|\n",
            "| BEL_2019-05-30_2_7|                 2|        600|             48| 36000.0|           120|2400|               0|(3,[1],[1.0])| (178,[7],[1.0])| (5,[0],[1.0])|     (7,[2],[1.0])|(12,[0],[1.0])|       (4,[],[])|(215,[0,1,2,3,4,7...|\n",
            "| BEL_2019-05-30_7_4|                 5|        850|             44| 80000.0|           118| 740|               0|(3,[1],[1.0])| (178,[4],[1.0])| (5,[0],[1.0])|     (7,[3],[1.0])|(12,[1],[1.0])|       (4,[],[])|(215,[0,1,2,3,4,7...|\n",
            "| BEL_2019-06-02_1_1|                 2|        600|             48| 30000.0|           124|2525|               0|(3,[1],[1.0])|(178,[42],[1.0])| (5,[0],[1.0])|     (7,[0],[1.0])|(12,[2],[1.0])|       (4,[],[])|(215,[0,1,2,3,4,7...|\n",
            "| BEL_2019-06-19_4_5|                 5|        800|             52| 33000.0|           125|4900|               0|(3,[1],[1.0])|(178,[15],[1.0])| (5,[0],[1.0])|     (7,[2],[1.0])|(12,[2],[1.0])|       (4,[],[])|(215,[0,1,2,3,4,7...|\n",
            "| BEL_2019-06-23_1_2|                 5|        650|             52| 42000.0|           116|1670|               0|(3,[1],[1.0])|(178,[10],[1.0])| (5,[0],[1.0])|     (7,[0],[1.0])|(12,[9],[1.0])|       (4,[],[])|(215,[0,1,2,3,4,7...|\n",
            "+-------------------+------------------+-----------+---------------+--------+--------------+----+----------------+-------------+----------------+--------------+------------------+--------------+----------------+--------------------+\n",
            "only showing top 20 rows\n",
            "\n"
          ]
        }
      ],
      "execution_count": null
    },
    {
      "cell_type": "markdown",
      "source": "**Scale Variables**",
      "metadata": {
        "id": "wEEliQSCCR_V"
      }
    },
    {
      "cell_type": "code",
      "source": "from pyspark.ml.feature import StandardScaler\n# Let us create an object of StandardScaler class\nScaler=StandardScaler().setInputCol(\"SelectedFeatures\").setOutputCol(\"ScaledFeatures\")\ntrain = Scaler.fit(train).transform(train)\ntest = Scaler.fit(test).transform(test)",
      "metadata": {
        "id": "RImWDa9GCPa7"
      },
      "outputs": [],
      "execution_count": null
    },
    {
      "cell_type": "code",
      "source": "test.show()",
      "metadata": {
        "id": "iKbDR0LqF-nf",
        "outputId": "40f7eecd-c808-4d50-9969-6a980d57062f",
        "colab": {
          "base_uri": "https://localhost:8080/"
        }
      },
      "outputs": [
        {
          "output_type": "stream",
          "name": "stdout",
          "text": [
            "+-------------------+------------------+-----------+---------------+--------+--------------+----+----------------+-------------+----------------+--------------+------------------+--------------+----------------+--------------------+--------------------+\n",
            "|           ID_horse|position_at_finish|distance_id|run_up_distance|   purse|weight_carried|odds|days_from_injury|  track_id_ce|       jockey_ce|course_type_ce|track_condition_ce|  race_type_ce|incident_type_ce|    SelectedFeatures|      ScaledFeatures|\n",
            "+-------------------+------------------+-----------+---------------+--------+--------------+----+----------------+-------------+----------------+--------------+------------------+--------------+----------------+--------------------+--------------------+\n",
            "|AQU_2019-04-06_11_5|                11|        800|             54| 75000.0|           126| 800|               0|(3,[0],[1.0])| (178,[2],[1.0])| (5,[0],[1.0])|     (7,[0],[1.0])|(12,[5],[1.0])|       (4,[],[])|(215,[0,1,2,3,4,6...|(215,[0,1,2,3,4,6...|\n",
            "|AQU_2019-11-16_10_4|                 4|        600|             45| 38000.0|           122|2425|               0|(3,[0],[1.0])|(178,[12],[1.0])| (5,[3],[1.0])|     (7,[1],[1.0])|(12,[0],[1.0])|       (4,[],[])|(215,[0,1,2,3,4,6...|(215,[0,1,2,3,4,6...|\n",
            "| AQU_2019-11-30_2_4|                 5|        600|             45| 52000.0|           120|1270|               0|(3,[0],[1.0])|(178,[34],[1.0])| (5,[0],[1.0])|     (7,[0],[1.0])|(12,[0],[1.0])|       (4,[],[])|(215,[0,1,2,3,4,6...|(215,[0,1,2,3,4,6...|\n",
            "| AQU_2019-12-21_2_5|                 3|        800|             54| 50000.0|           125|1270|               0|(3,[0],[1.0])|(178,[27],[1.0])| (5,[0],[1.0])|     (7,[0],[1.0])|(12,[0],[1.0])|       (4,[],[])|(215,[0,1,2,3,4,6...|(215,[0,1,2,3,4,6...|\n",
            "| BEL_2019-05-26_2_6|                 1|        800|            140| 41000.0|           124| 510|               0|(3,[1],[1.0])| (178,[8],[1.0])| (5,[1],[1.0])|     (7,[1],[1.0])|(12,[2],[1.0])|       (4,[],[])|(215,[0,1,2,3,4,7...|(215,[0,1,2,3,4,7...|\n",
            "| BEL_2019-06-13_1_1|                 1|        650|             54| 28000.0|           125|  35|               0|(3,[1],[1.0])| (178,[4],[1.0])| (5,[0],[1.0])|     (7,[3],[1.0])|(12,[0],[1.0])|       (4,[],[])|(215,[0,1,2,3,4,7...|(215,[0,1,2,3,4,7...|\n",
            "| BEL_2019-06-15_7_5|                 1|        800|            112| 82000.0|           124|1250|               0|(3,[1],[1.0])| (178,[8],[1.0])| (5,[1],[1.0])|     (7,[1],[1.0])|(12,[5],[1.0])|       (4,[],[])|(215,[0,1,2,3,4,7...|(215,[0,1,2,3,4,7...|\n",
            "| BEL_2019-06-23_1_2|                 5|        650|             52| 42000.0|           116|1670|               0|(3,[1],[1.0])|(178,[10],[1.0])| (5,[0],[1.0])|     (7,[0],[1.0])|(12,[9],[1.0])|       (4,[],[])|(215,[0,1,2,3,4,7...|(215,[0,1,2,3,4,7...|\n",
            "| BEL_2019-09-14_2_8|                 7|        850|             66| 41000.0|           124| 450|               0|(3,[1],[1.0])| (178,[2],[1.0])| (5,[2],[1.0])|     (7,[1],[1.0])|(12,[2],[1.0])|       (4,[],[])|(215,[0,1,2,3,4,7...|(215,[0,1,2,3,4,7...|\n",
            "|BEL_2019-09-28_10_2|                 2|       1000|             72|750000.0|           122| 200|               0|(3,[1],[1.0])|(178,[14],[1.0])| (5,[0],[1.0])|     (7,[0],[1.0])|(12,[3],[1.0])|       (4,[],[])|(215,[0,1,2,3,4,7...|(215,[0,1,2,3,4,7...|\n",
            "| BEL_2019-10-10_8_2|                 6|        600|            101| 41000.0|           121| 180|               0|(3,[1],[1.0])| (178,[8],[1.0])| (5,[1],[1.0])|     (7,[1],[1.0])|(12,[2],[1.0])|       (4,[],[])|(215,[0,1,2,3,4,7...|(215,[0,1,2,3,4,7...|\n",
            "| BEL_2019-10-18_7_6|                 2|        650|             45| 70000.0|           123| 200|               0|(3,[1],[1.0])| (178,[2],[1.0])| (5,[0],[1.0])|     (7,[0],[1.0])|(12,[4],[1.0])|       (4,[],[])|(215,[0,1,2,3,4,7...|(215,[0,1,2,3,4,7...|\n",
            "|BEL_2019-10-24_5_10|                 3|        600|            138| 77000.0|           123| 235|               0|(3,[1],[1.0])| (178,[2],[1.0])| (5,[2],[1.0])|     (7,[2],[1.0])|(12,[5],[1.0])|       (4,[],[])|(215,[0,1,2,3,4,7...|(215,[0,1,2,3,4,7...|\n",
            "| SAR_2019-07-13_3_5|                 1|        600|             45|150000.0|           120| 140|               0|(3,[2],[1.0])| (178,[4],[1.0])| (5,[0],[1.0])|     (7,[0],[1.0])|(12,[3],[1.0])|       (4,[],[])|(215,[0,1,2,3,4,8...|(215,[0,1,2,3,4,8...|\n",
            "|SAR_2019-07-26_8_10|                 7|        550|             63| 83000.0|           122|4725|               0|(3,[2],[1.0])|(178,[30],[1.0])| (5,[1],[1.0])|     (7,[5],[1.0])|(12,[4],[1.0])|       (4,[],[])|(215,[0,1,2,3,4,8...|(215,[0,1,2,3,4,8...|\n",
            "| SAR_2019-08-08_4_6|                 5|        700|             32| 65000.0|           125| 890|               0|(3,[2],[1.0])| (178,[0],[1.0])| (5,[0],[1.0])|     (7,[0],[1.0])|(12,[0],[1.0])|       (4,[],[])|(215,[0,1,2,3,4,8...|(215,[0,1,2,3,4,8...|\n",
            "|SAR_2019-08-09_8_10|                 5|        800|             30| 95000.0|           122| 335|               0|(3,[2],[1.0])| (178,[4],[1.0])| (5,[2],[1.0])|     (7,[1],[1.0])|(12,[4],[1.0])|       (4,[],[])|(215,[0,1,2,3,4,8...|(215,[0,1,2,3,4,8...|\n",
            "| AQU_2019-01-05_7_6|                 7|        600|             48| 70000.0|           121| 275|               0|(3,[0],[1.0])| (178,[3],[1.0])| (5,[0],[1.0])|     (7,[3],[1.0])|(12,[5],[1.0])|       (4,[],[])|(215,[0,1,2,3,4,6...|(215,[0,1,2,3,4,6...|\n",
            "| AQU_2019-02-10_8_1|                 1|        800|             54|100000.0|           126| 970|               0|(3,[0],[1.0])|(178,[17],[1.0])| (5,[0],[1.0])|     (7,[0],[1.0])|(12,[3],[1.0])|       (4,[],[])|(215,[0,1,2,3,4,6...|(215,[0,1,2,3,4,6...|\n",
            "| AQU_2019-02-28_7_3|                 5|        650|             36| 55000.0|           124| 800|               0|(3,[0],[1.0])| (178,[0],[1.0])| (5,[0],[1.0])|     (7,[0],[1.0])|(12,[6],[1.0])|       (4,[],[])|(215,[0,1,2,3,4,6...|(215,[0,1,2,3,4,6...|\n",
            "+-------------------+------------------+-----------+---------------+--------+--------------+----+----------------+-------------+----------------+--------------+------------------+--------------+----------------+--------------------+--------------------+\n",
            "only showing top 20 rows\n",
            "\n"
          ]
        }
      ],
      "execution_count": null
    },
    {
      "cell_type": "markdown",
      "source": "**Random Forest Classifier**",
      "metadata": {
        "id": "Pjlzhq4aJnev"
      }
    },
    {
      "cell_type": "code",
      "source": "from pyspark.ml.classification import RandomForestClassifier\nrf = RandomForestClassifier(labelCol=\"position_at_finish\", featuresCol=\"ScaledFeatures\")\nrf_model = rf.fit(train)\nrf_prediction = rf_model.transform(test)\nrf_prediction.select(\"prediction\", \"position_at_finish\").show()",
      "metadata": {
        "id": "7OyeWelbJUeR",
        "outputId": "fdfc84a2-9f0d-4799-8f27-4aee5d1f8c83",
        "colab": {
          "base_uri": "https://localhost:8080/"
        }
      },
      "outputs": [
        {
          "output_type": "stream",
          "name": "stdout",
          "text": [
            "+----------+------------------+\n",
            "|prediction|position_at_finish|\n",
            "+----------+------------------+\n",
            "|       1.0|                11|\n",
            "|       5.0|                 4|\n",
            "|       4.0|                 5|\n",
            "|       4.0|                 3|\n",
            "|       4.0|                 1|\n",
            "|       1.0|                 1|\n",
            "|       4.0|                 1|\n",
            "|       4.0|                 5|\n",
            "|       1.0|                 7|\n",
            "|       1.0|                 2|\n",
            "|       1.0|                 6|\n",
            "|       1.0|                 2|\n",
            "|       2.0|                 3|\n",
            "|       1.0|                 1|\n",
            "|       6.0|                 7|\n",
            "|       4.0|                 5|\n",
            "|       2.0|                 5|\n",
            "|       1.0|                 7|\n",
            "|       5.0|                 1|\n",
            "|       4.0|                 5|\n",
            "+----------+------------------+\n",
            "only showing top 20 rows\n",
            "\n"
          ]
        }
      ],
      "execution_count": null
    },
    {
      "cell_type": "code",
      "source": "rf_model.featureImportances",
      "metadata": {
        "id": "uz0agsd0JU8a",
        "outputId": "80796241-54d7-4c75-f3dc-ec1aec8755c1",
        "colab": {
          "base_uri": "https://localhost:8080/"
        }
      },
      "outputs": [
        {
          "output_type": "execute_result",
          "data": {
            "text/plain": [
              "SparseVector(215, {0: 0.0215, 1: 0.0384, 2: 0.0233, 3: 0.0794, 4: 0.2934, 5: 0.0006, 6: 0.0106, 7: 0.0078, 8: 0.0178, 9: 0.0247, 10: 0.004, 11: 0.017, 13: 0.0195, 15: 0.0061, 16: 0.0205, 17: 0.0021, 18: 0.009, 19: 0.0086, 20: 0.0078, 21: 0.0021, 22: 0.0006, 23: 0.0014, 24: 0.0066, 25: 0.015, 26: 0.0108, 27: 0.0074, 28: 0.0097, 29: 0.0159, 30: 0.0015, 31: 0.0009, 33: 0.0028, 35: 0.0017, 36: 0.0019, 39: 0.001, 40: 0.0074, 41: 0.0037, 42: 0.004, 44: 0.0043, 47: 0.0012, 48: 0.0012, 49: 0.0029, 51: 0.0019, 53: 0.0031, 55: 0.0056, 60: 0.0049, 68: 0.0024, 71: 0.0016, 76: 0.0013, 79: 0.0006, 80: 0.0036, 84: 0.0047, 87: 0.0011, 88: 0.0025, 97: 0.003, 99: 0.006, 102: 0.0015, 118: 0.0024, 130: 0.002, 134: 0.0018, 142: 0.0008, 143: 0.0015, 156: 0.0007, 182: 0.0046, 187: 0.0553, 188: 0.0084, 189: 0.0095, 190: 0.0093, 192: 0.023, 193: 0.029, 194: 0.0121, 195: 0.0046, 196: 0.0063, 197: 0.0066, 198: 0.0008, 199: 0.005, 200: 0.0081, 201: 0.0212, 202: 0.0086, 203: 0.0049, 204: 0.0033, 205: 0.0023, 206: 0.0015, 208: 0.0046, 209: 0.0005, 211: 0.0015})"
            ]
          },
          "metadata": {},
          "execution_count": 157
        }
      ],
      "execution_count": null
    }
  ]
}